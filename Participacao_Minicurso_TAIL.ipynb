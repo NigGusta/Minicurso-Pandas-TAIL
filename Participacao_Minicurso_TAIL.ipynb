{
  "nbformat": 4,
  "nbformat_minor": 0,
  "metadata": {
    "colab": {
      "provenance": [],
      "collapsed_sections": [
        "cw9JPklgo2bR",
        "Yxa4TeNxo3vr",
        "WV-NVOc0o300",
        "dBaRyJi4PkDQ",
        "VPMOuQr1b-X-",
        "PvUri-Fv3b7g",
        "QEsend9NErqN",
        "9L5p0vNNJNf-"
      ]
    },
    "kernelspec": {
      "name": "python3",
      "display_name": "Python 3"
    },
    "language_info": {
      "name": "python"
    }
  },
  "cells": [
    {
      "cell_type": "markdown",
      "source": [
        "<a href=\"TAIL\"><img src=\"https://i.imgur.com/GRTE0OG.png\" width=\"150\" title=\"Tail Logo\" /></a>\n",
        "# <font color =\"#00b8ff\">Minicurso: Uma introdução à data science com python</font>"
      ],
      "metadata": {
        "cell_id": "4f845c2bded4465380490f7a8e270739",
        "tags": [],
        "deepnote_cell_type": "markdown",
        "deepnote_cell_height": 82,
        "id": "SwqOLFilyXzo"
      }
    },
    {
      "cell_type": "markdown",
      "source": [
        "# Introdução"
      ],
      "metadata": {
        "id": "mTFiSqqSp9F0"
      }
    },
    {
      "cell_type": "markdown",
      "source": [
        "## Bem-vindos ao nosso Minicurso de Introdução à Data Science!\n",
        "\n",
        "### Esperamos que após esse minicurso, você seja capaz de:\n",
        "\n",
        "*   Tratar dados de um dataset\n",
        "*   Criar gráficos\n",
        "*   Gerar informação a partir de sua análise\n",
        "*   Realizar seus próprios projetos na área de dados com python"
      ],
      "metadata": {
        "id": "_lI5cPehbi2X"
      }
    },
    {
      "cell_type": "markdown",
      "source": [
        "## Leitura dos dados e descrição estatística dos dados"
      ],
      "metadata": {
        "id": "bzyg2jJaklwR"
      }
    },
    {
      "cell_type": "markdown",
      "source": [
        "#### Comece importando a Biblioteca Pandas como pd. ex: import pandas as pd"
      ],
      "metadata": {
        "id": "cw9JPklgo2bR"
      }
    },
    {
      "cell_type": "code",
      "source": [
        "import pandas as pd"
      ],
      "metadata": {
        "id": "CaD4HFuCochy"
      },
      "execution_count": 440,
      "outputs": []
    },
    {
      "cell_type": "markdown",
      "source": [
        "#### Importe o dataset de saúde mental dos estudantes, que se encontra no link https://bit.ly/3K5xg6D , através da função .read_csv. Nomeie o dataset."
      ],
      "metadata": {
        "id": "g8sFypoBo3n-"
      }
    },
    {
      "cell_type": "code",
      "source": [
        "dataset = pd.read_csv(\"https://bit.ly/3K5xg6D\")\n",
        "dataset"
      ],
      "metadata": {
        "id": "VA5bDYGHomZV",
        "colab": {
          "base_uri": "https://localhost:8080/",
          "height": 676
        },
        "outputId": "8a030a9e-e832-44b5-c6a8-8338dc861b86"
      },
      "execution_count": 441,
      "outputs": [
        {
          "output_type": "execute_result",
          "data": {
            "text/plain": [
              "               Timestamp Choose your gender   Age What is your course?  \\\n",
              "0         8/7/2020 12:02             Female  18.0          Engineering   \n",
              "1         8/7/2020 12:04               Male  21.0    Islamic education   \n",
              "2         8/7/2020 12:05               Male  19.0                  BIT   \n",
              "3         8/7/2020 12:06             Female  22.0                 Laws   \n",
              "4         8/7/2020 12:13               Male  23.0         Mathemathics   \n",
              "..                   ...                ...   ...                  ...   \n",
              "96   13/07/2020 19:56:49             Female  21.0                  BCS   \n",
              "97   13/07/2020 21:21:42               Male  18.0          Engineering   \n",
              "98   13/07/2020 21:22:56             Female  19.0             Nursing    \n",
              "99   13/07/2020 21:23:57             Female  23.0     Pendidikan Islam   \n",
              "100  18/07/2020 20:16:21               Male  20.0   Biomedical science   \n",
              "\n",
              "    Your current year of Study What is your CGPA? Marital status  \\\n",
              "0                       year 1        3.00 - 3.49             No   \n",
              "1                       year 2        3.00 - 3.49             No   \n",
              "2                       Year 1        3.00 - 3.49             No   \n",
              "3                       year 3        3.00 - 3.49            Yes   \n",
              "4                       year 4        3.00 - 3.49             No   \n",
              "..                         ...                ...            ...   \n",
              "96                      year 1        3.50 - 4.00             No   \n",
              "97                      Year 2        3.00 - 3.49             No   \n",
              "98                      Year 3        3.50 - 4.00            Yes   \n",
              "99                      year 4        3.50 - 4.00             No   \n",
              "100                     Year 2        3.00 - 3.49             No   \n",
              "\n",
              "    Do you have Depression? Do you have Anxiety? Do you have Panic attack?  \\\n",
              "0                       Yes                   No                       Yes   \n",
              "1                        No                  Yes                        No   \n",
              "2                       Yes                  Yes                       Yes   \n",
              "3                       Yes                   No                        No   \n",
              "4                        No                   No                        No   \n",
              "..                      ...                  ...                       ...   \n",
              "96                       No                  Yes                        No   \n",
              "97                      Yes                  Yes                        No   \n",
              "98                      Yes                   No                       Yes   \n",
              "99                       No                   No                        No   \n",
              "100                      No                   No                        No   \n",
              "\n",
              "    Did you seek any specialist for a treatment?  \n",
              "0                                             No  \n",
              "1                                             No  \n",
              "2                                             No  \n",
              "3                                             No  \n",
              "4                                             No  \n",
              "..                                           ...  \n",
              "96                                            No  \n",
              "97                                            No  \n",
              "98                                            No  \n",
              "99                                            No  \n",
              "100                                           No  \n",
              "\n",
              "[101 rows x 11 columns]"
            ],
            "text/html": [
              "\n",
              "  <div id=\"df-d8984b98-8563-4d7b-8c55-2396c0d32a24\">\n",
              "    <div class=\"colab-df-container\">\n",
              "      <div>\n",
              "<style scoped>\n",
              "    .dataframe tbody tr th:only-of-type {\n",
              "        vertical-align: middle;\n",
              "    }\n",
              "\n",
              "    .dataframe tbody tr th {\n",
              "        vertical-align: top;\n",
              "    }\n",
              "\n",
              "    .dataframe thead th {\n",
              "        text-align: right;\n",
              "    }\n",
              "</style>\n",
              "<table border=\"1\" class=\"dataframe\">\n",
              "  <thead>\n",
              "    <tr style=\"text-align: right;\">\n",
              "      <th></th>\n",
              "      <th>Timestamp</th>\n",
              "      <th>Choose your gender</th>\n",
              "      <th>Age</th>\n",
              "      <th>What is your course?</th>\n",
              "      <th>Your current year of Study</th>\n",
              "      <th>What is your CGPA?</th>\n",
              "      <th>Marital status</th>\n",
              "      <th>Do you have Depression?</th>\n",
              "      <th>Do you have Anxiety?</th>\n",
              "      <th>Do you have Panic attack?</th>\n",
              "      <th>Did you seek any specialist for a treatment?</th>\n",
              "    </tr>\n",
              "  </thead>\n",
              "  <tbody>\n",
              "    <tr>\n",
              "      <th>0</th>\n",
              "      <td>8/7/2020 12:02</td>\n",
              "      <td>Female</td>\n",
              "      <td>18.0</td>\n",
              "      <td>Engineering</td>\n",
              "      <td>year 1</td>\n",
              "      <td>3.00 - 3.49</td>\n",
              "      <td>No</td>\n",
              "      <td>Yes</td>\n",
              "      <td>No</td>\n",
              "      <td>Yes</td>\n",
              "      <td>No</td>\n",
              "    </tr>\n",
              "    <tr>\n",
              "      <th>1</th>\n",
              "      <td>8/7/2020 12:04</td>\n",
              "      <td>Male</td>\n",
              "      <td>21.0</td>\n",
              "      <td>Islamic education</td>\n",
              "      <td>year 2</td>\n",
              "      <td>3.00 - 3.49</td>\n",
              "      <td>No</td>\n",
              "      <td>No</td>\n",
              "      <td>Yes</td>\n",
              "      <td>No</td>\n",
              "      <td>No</td>\n",
              "    </tr>\n",
              "    <tr>\n",
              "      <th>2</th>\n",
              "      <td>8/7/2020 12:05</td>\n",
              "      <td>Male</td>\n",
              "      <td>19.0</td>\n",
              "      <td>BIT</td>\n",
              "      <td>Year 1</td>\n",
              "      <td>3.00 - 3.49</td>\n",
              "      <td>No</td>\n",
              "      <td>Yes</td>\n",
              "      <td>Yes</td>\n",
              "      <td>Yes</td>\n",
              "      <td>No</td>\n",
              "    </tr>\n",
              "    <tr>\n",
              "      <th>3</th>\n",
              "      <td>8/7/2020 12:06</td>\n",
              "      <td>Female</td>\n",
              "      <td>22.0</td>\n",
              "      <td>Laws</td>\n",
              "      <td>year 3</td>\n",
              "      <td>3.00 - 3.49</td>\n",
              "      <td>Yes</td>\n",
              "      <td>Yes</td>\n",
              "      <td>No</td>\n",
              "      <td>No</td>\n",
              "      <td>No</td>\n",
              "    </tr>\n",
              "    <tr>\n",
              "      <th>4</th>\n",
              "      <td>8/7/2020 12:13</td>\n",
              "      <td>Male</td>\n",
              "      <td>23.0</td>\n",
              "      <td>Mathemathics</td>\n",
              "      <td>year 4</td>\n",
              "      <td>3.00 - 3.49</td>\n",
              "      <td>No</td>\n",
              "      <td>No</td>\n",
              "      <td>No</td>\n",
              "      <td>No</td>\n",
              "      <td>No</td>\n",
              "    </tr>\n",
              "    <tr>\n",
              "      <th>...</th>\n",
              "      <td>...</td>\n",
              "      <td>...</td>\n",
              "      <td>...</td>\n",
              "      <td>...</td>\n",
              "      <td>...</td>\n",
              "      <td>...</td>\n",
              "      <td>...</td>\n",
              "      <td>...</td>\n",
              "      <td>...</td>\n",
              "      <td>...</td>\n",
              "      <td>...</td>\n",
              "    </tr>\n",
              "    <tr>\n",
              "      <th>96</th>\n",
              "      <td>13/07/2020 19:56:49</td>\n",
              "      <td>Female</td>\n",
              "      <td>21.0</td>\n",
              "      <td>BCS</td>\n",
              "      <td>year 1</td>\n",
              "      <td>3.50 - 4.00</td>\n",
              "      <td>No</td>\n",
              "      <td>No</td>\n",
              "      <td>Yes</td>\n",
              "      <td>No</td>\n",
              "      <td>No</td>\n",
              "    </tr>\n",
              "    <tr>\n",
              "      <th>97</th>\n",
              "      <td>13/07/2020 21:21:42</td>\n",
              "      <td>Male</td>\n",
              "      <td>18.0</td>\n",
              "      <td>Engineering</td>\n",
              "      <td>Year 2</td>\n",
              "      <td>3.00 - 3.49</td>\n",
              "      <td>No</td>\n",
              "      <td>Yes</td>\n",
              "      <td>Yes</td>\n",
              "      <td>No</td>\n",
              "      <td>No</td>\n",
              "    </tr>\n",
              "    <tr>\n",
              "      <th>98</th>\n",
              "      <td>13/07/2020 21:22:56</td>\n",
              "      <td>Female</td>\n",
              "      <td>19.0</td>\n",
              "      <td>Nursing</td>\n",
              "      <td>Year 3</td>\n",
              "      <td>3.50 - 4.00</td>\n",
              "      <td>Yes</td>\n",
              "      <td>Yes</td>\n",
              "      <td>No</td>\n",
              "      <td>Yes</td>\n",
              "      <td>No</td>\n",
              "    </tr>\n",
              "    <tr>\n",
              "      <th>99</th>\n",
              "      <td>13/07/2020 21:23:57</td>\n",
              "      <td>Female</td>\n",
              "      <td>23.0</td>\n",
              "      <td>Pendidikan Islam</td>\n",
              "      <td>year 4</td>\n",
              "      <td>3.50 - 4.00</td>\n",
              "      <td>No</td>\n",
              "      <td>No</td>\n",
              "      <td>No</td>\n",
              "      <td>No</td>\n",
              "      <td>No</td>\n",
              "    </tr>\n",
              "    <tr>\n",
              "      <th>100</th>\n",
              "      <td>18/07/2020 20:16:21</td>\n",
              "      <td>Male</td>\n",
              "      <td>20.0</td>\n",
              "      <td>Biomedical science</td>\n",
              "      <td>Year 2</td>\n",
              "      <td>3.00 - 3.49</td>\n",
              "      <td>No</td>\n",
              "      <td>No</td>\n",
              "      <td>No</td>\n",
              "      <td>No</td>\n",
              "      <td>No</td>\n",
              "    </tr>\n",
              "  </tbody>\n",
              "</table>\n",
              "<p>101 rows × 11 columns</p>\n",
              "</div>\n",
              "      <button class=\"colab-df-convert\" onclick=\"convertToInteractive('df-d8984b98-8563-4d7b-8c55-2396c0d32a24')\"\n",
              "              title=\"Convert this dataframe to an interactive table.\"\n",
              "              style=\"display:none;\">\n",
              "        \n",
              "  <svg xmlns=\"http://www.w3.org/2000/svg\" height=\"24px\"viewBox=\"0 0 24 24\"\n",
              "       width=\"24px\">\n",
              "    <path d=\"M0 0h24v24H0V0z\" fill=\"none\"/>\n",
              "    <path d=\"M18.56 5.44l.94 2.06.94-2.06 2.06-.94-2.06-.94-.94-2.06-.94 2.06-2.06.94zm-11 1L8.5 8.5l.94-2.06 2.06-.94-2.06-.94L8.5 2.5l-.94 2.06-2.06.94zm10 10l.94 2.06.94-2.06 2.06-.94-2.06-.94-.94-2.06-.94 2.06-2.06.94z\"/><path d=\"M17.41 7.96l-1.37-1.37c-.4-.4-.92-.59-1.43-.59-.52 0-1.04.2-1.43.59L10.3 9.45l-7.72 7.72c-.78.78-.78 2.05 0 2.83L4 21.41c.39.39.9.59 1.41.59.51 0 1.02-.2 1.41-.59l7.78-7.78 2.81-2.81c.8-.78.8-2.07 0-2.86zM5.41 20L4 18.59l7.72-7.72 1.47 1.35L5.41 20z\"/>\n",
              "  </svg>\n",
              "      </button>\n",
              "      \n",
              "  <style>\n",
              "    .colab-df-container {\n",
              "      display:flex;\n",
              "      flex-wrap:wrap;\n",
              "      gap: 12px;\n",
              "    }\n",
              "\n",
              "    .colab-df-convert {\n",
              "      background-color: #E8F0FE;\n",
              "      border: none;\n",
              "      border-radius: 50%;\n",
              "      cursor: pointer;\n",
              "      display: none;\n",
              "      fill: #1967D2;\n",
              "      height: 32px;\n",
              "      padding: 0 0 0 0;\n",
              "      width: 32px;\n",
              "    }\n",
              "\n",
              "    .colab-df-convert:hover {\n",
              "      background-color: #E2EBFA;\n",
              "      box-shadow: 0px 1px 2px rgba(60, 64, 67, 0.3), 0px 1px 3px 1px rgba(60, 64, 67, 0.15);\n",
              "      fill: #174EA6;\n",
              "    }\n",
              "\n",
              "    [theme=dark] .colab-df-convert {\n",
              "      background-color: #3B4455;\n",
              "      fill: #D2E3FC;\n",
              "    }\n",
              "\n",
              "    [theme=dark] .colab-df-convert:hover {\n",
              "      background-color: #434B5C;\n",
              "      box-shadow: 0px 1px 3px 1px rgba(0, 0, 0, 0.15);\n",
              "      filter: drop-shadow(0px 1px 2px rgba(0, 0, 0, 0.3));\n",
              "      fill: #FFFFFF;\n",
              "    }\n",
              "  </style>\n",
              "\n",
              "      <script>\n",
              "        const buttonEl =\n",
              "          document.querySelector('#df-d8984b98-8563-4d7b-8c55-2396c0d32a24 button.colab-df-convert');\n",
              "        buttonEl.style.display =\n",
              "          google.colab.kernel.accessAllowed ? 'block' : 'none';\n",
              "\n",
              "        async function convertToInteractive(key) {\n",
              "          const element = document.querySelector('#df-d8984b98-8563-4d7b-8c55-2396c0d32a24');\n",
              "          const dataTable =\n",
              "            await google.colab.kernel.invokeFunction('convertToInteractive',\n",
              "                                                     [key], {});\n",
              "          if (!dataTable) return;\n",
              "\n",
              "          const docLinkHtml = 'Like what you see? Visit the ' +\n",
              "            '<a target=\"_blank\" href=https://colab.research.google.com/notebooks/data_table.ipynb>data table notebook</a>'\n",
              "            + ' to learn more about interactive tables.';\n",
              "          element.innerHTML = '';\n",
              "          dataTable['output_type'] = 'display_data';\n",
              "          await google.colab.output.renderOutput(dataTable, element);\n",
              "          const docLink = document.createElement('div');\n",
              "          docLink.innerHTML = docLinkHtml;\n",
              "          element.appendChild(docLink);\n",
              "        }\n",
              "      </script>\n",
              "    </div>\n",
              "  </div>\n",
              "  "
            ]
          },
          "metadata": {},
          "execution_count": 441
        }
      ]
    },
    {
      "cell_type": "markdown",
      "source": [
        "#### A função .info() permite obter informações como as colunas do dataset, se há dados nulos e os tipos de dados. Verifique essas informações no dataset."
      ],
      "metadata": {
        "id": "Yxa4TeNxo3vr"
      }
    },
    {
      "cell_type": "code",
      "source": [
        "dataset.info()"
      ],
      "metadata": {
        "id": "ZK8rrvBAomiC",
        "colab": {
          "base_uri": "https://localhost:8080/"
        },
        "outputId": "36b23309-3051-4181-acea-fff0531da2b3"
      },
      "execution_count": 442,
      "outputs": [
        {
          "output_type": "stream",
          "name": "stdout",
          "text": [
            "<class 'pandas.core.frame.DataFrame'>\n",
            "RangeIndex: 101 entries, 0 to 100\n",
            "Data columns (total 11 columns):\n",
            " #   Column                                        Non-Null Count  Dtype  \n",
            "---  ------                                        --------------  -----  \n",
            " 0   Timestamp                                     101 non-null    object \n",
            " 1   Choose your gender                            101 non-null    object \n",
            " 2   Age                                           100 non-null    float64\n",
            " 3   What is your course?                          101 non-null    object \n",
            " 4   Your current year of Study                    101 non-null    object \n",
            " 5   What is your CGPA?                            101 non-null    object \n",
            " 6   Marital status                                101 non-null    object \n",
            " 7   Do you have Depression?                       101 non-null    object \n",
            " 8   Do you have Anxiety?                          101 non-null    object \n",
            " 9   Do you have Panic attack?                     101 non-null    object \n",
            " 10  Did you seek any specialist for a treatment?  101 non-null    object \n",
            "dtypes: float64(1), object(10)\n",
            "memory usage: 8.8+ KB\n"
          ]
        }
      ]
    },
    {
      "cell_type": "markdown",
      "source": [
        "#### Verifique as dimensões (linhas e colunas) do dataset através da função .shape."
      ],
      "metadata": {
        "id": "WV-NVOc0o300"
      }
    },
    {
      "cell_type": "code",
      "source": [
        "dataset.shape"
      ],
      "metadata": {
        "id": "J0hepSOjomoK",
        "colab": {
          "base_uri": "https://localhost:8080/"
        },
        "outputId": "513cd521-99a4-4ddd-81b8-6f044221cf58"
      },
      "execution_count": 443,
      "outputs": [
        {
          "output_type": "execute_result",
          "data": {
            "text/plain": [
              "(101, 11)"
            ]
          },
          "metadata": {},
          "execution_count": 443
        }
      ]
    },
    {
      "cell_type": "markdown",
      "source": [
        "#### Para obter informações sobre as colunas, utilize o .columns no referido dataset."
      ],
      "metadata": {
        "id": "7Xx6B1NkpXrB"
      }
    },
    {
      "cell_type": "code",
      "source": [
        "dataset.columns"
      ],
      "metadata": {
        "id": "FhBO8J5Ephq0",
        "colab": {
          "base_uri": "https://localhost:8080/"
        },
        "outputId": "0e63bc73-0454-4e50-e204-2495148aa170"
      },
      "execution_count": 444,
      "outputs": [
        {
          "output_type": "execute_result",
          "data": {
            "text/plain": [
              "Index(['Timestamp', 'Choose your gender', 'Age', 'What is your course?',\n",
              "       'Your current year of Study', 'What is your CGPA?', 'Marital status',\n",
              "       'Do you have Depression?', 'Do you have Anxiety?',\n",
              "       'Do you have Panic attack?',\n",
              "       'Did you seek any specialist for a treatment?'],\n",
              "      dtype='object')"
            ]
          },
          "metadata": {},
          "execution_count": 444
        }
      ]
    },
    {
      "cell_type": "markdown",
      "source": [
        "#### Para verificar os tipos de dados do dataset, utize a função .dtypes."
      ],
      "metadata": {
        "id": "T-LTl2FApuBr"
      }
    },
    {
      "cell_type": "code",
      "source": [
        "dataset.dtypes"
      ],
      "metadata": {
        "id": "HHwVwNZTpht-",
        "colab": {
          "base_uri": "https://localhost:8080/"
        },
        "outputId": "8433efb2-2266-4ae8-fce0-136ff8464033"
      },
      "execution_count": 445,
      "outputs": [
        {
          "output_type": "execute_result",
          "data": {
            "text/plain": [
              "Timestamp                                        object\n",
              "Choose your gender                               object\n",
              "Age                                             float64\n",
              "What is your course?                             object\n",
              "Your current year of Study                       object\n",
              "What is your CGPA?                               object\n",
              "Marital status                                   object\n",
              "Do you have Depression?                          object\n",
              "Do you have Anxiety?                             object\n",
              "Do you have Panic attack?                        object\n",
              "Did you seek any specialist for a treatment?     object\n",
              "dtype: object"
            ]
          },
          "metadata": {},
          "execution_count": 445
        }
      ]
    },
    {
      "cell_type": "markdown",
      "source": [
        "#### Utilize .nunique() para saber quantos valores únicos existem em cada coluna do dataset."
      ],
      "metadata": {
        "id": "saS4AU1WpuFX"
      }
    },
    {
      "cell_type": "code",
      "source": [
        "dataset.nunique()"
      ],
      "metadata": {
        "id": "ElWi8xwJphxY",
        "colab": {
          "base_uri": "https://localhost:8080/"
        },
        "outputId": "48a6dd74-5891-46b2-ea85-ecd6006e59b3"
      },
      "execution_count": 446,
      "outputs": [
        {
          "output_type": "execute_result",
          "data": {
            "text/plain": [
              "Timestamp                                       92\n",
              "Choose your gender                               2\n",
              "Age                                              7\n",
              "What is your course?                            49\n",
              "Your current year of Study                       7\n",
              "What is your CGPA?                               6\n",
              "Marital status                                   2\n",
              "Do you have Depression?                          2\n",
              "Do you have Anxiety?                             2\n",
              "Do you have Panic attack?                        2\n",
              "Did you seek any specialist for a treatment?     2\n",
              "dtype: int64"
            ]
          },
          "metadata": {},
          "execution_count": 446
        }
      ]
    },
    {
      "cell_type": "markdown",
      "source": [
        "#### Utilizamos o seguinte comando .duplicated().any() para verificar se há entradas duplicadas no dataset. Caso haja, o comando irá retornar True."
      ],
      "metadata": {
        "id": "Z2-WcDQTpuJ3"
      }
    },
    {
      "cell_type": "code",
      "source": [
        "dataset.duplicated().any()"
      ],
      "metadata": {
        "id": "ik6NS0AdomxQ",
        "colab": {
          "base_uri": "https://localhost:8080/"
        },
        "outputId": "548a2b13-3701-458f-9cc9-07222fdcf704"
      },
      "execution_count": 447,
      "outputs": [
        {
          "output_type": "execute_result",
          "data": {
            "text/plain": [
              "False"
            ]
          },
          "metadata": {},
          "execution_count": 447
        }
      ]
    },
    {
      "cell_type": "markdown",
      "source": [
        "#### Utilize o .describe() para verificar as medidas de tendência central no dataset.\n",
        "#### Como a única variável numérica no dataset é a idade dos estudantes, ela é a única retornada com o comando."
      ],
      "metadata": {
        "id": "RECXRXdppuOA"
      }
    },
    {
      "cell_type": "code",
      "source": [
        "dataset.describe()"
      ],
      "metadata": {
        "id": "RHbHGauZpsS6",
        "colab": {
          "base_uri": "https://localhost:8080/",
          "height": 300
        },
        "outputId": "b6cce735-5c3a-4282-fe48-124aab92e3cb"
      },
      "execution_count": 448,
      "outputs": [
        {
          "output_type": "execute_result",
          "data": {
            "text/plain": [
              "             Age\n",
              "count  100.00000\n",
              "mean    20.53000\n",
              "std      2.49628\n",
              "min     18.00000\n",
              "25%     18.00000\n",
              "50%     19.00000\n",
              "75%     23.00000\n",
              "max     24.00000"
            ],
            "text/html": [
              "\n",
              "  <div id=\"df-e2c450fa-a24a-4e7d-bc8a-0137a0bb400e\">\n",
              "    <div class=\"colab-df-container\">\n",
              "      <div>\n",
              "<style scoped>\n",
              "    .dataframe tbody tr th:only-of-type {\n",
              "        vertical-align: middle;\n",
              "    }\n",
              "\n",
              "    .dataframe tbody tr th {\n",
              "        vertical-align: top;\n",
              "    }\n",
              "\n",
              "    .dataframe thead th {\n",
              "        text-align: right;\n",
              "    }\n",
              "</style>\n",
              "<table border=\"1\" class=\"dataframe\">\n",
              "  <thead>\n",
              "    <tr style=\"text-align: right;\">\n",
              "      <th></th>\n",
              "      <th>Age</th>\n",
              "    </tr>\n",
              "  </thead>\n",
              "  <tbody>\n",
              "    <tr>\n",
              "      <th>count</th>\n",
              "      <td>100.00000</td>\n",
              "    </tr>\n",
              "    <tr>\n",
              "      <th>mean</th>\n",
              "      <td>20.53000</td>\n",
              "    </tr>\n",
              "    <tr>\n",
              "      <th>std</th>\n",
              "      <td>2.49628</td>\n",
              "    </tr>\n",
              "    <tr>\n",
              "      <th>min</th>\n",
              "      <td>18.00000</td>\n",
              "    </tr>\n",
              "    <tr>\n",
              "      <th>25%</th>\n",
              "      <td>18.00000</td>\n",
              "    </tr>\n",
              "    <tr>\n",
              "      <th>50%</th>\n",
              "      <td>19.00000</td>\n",
              "    </tr>\n",
              "    <tr>\n",
              "      <th>75%</th>\n",
              "      <td>23.00000</td>\n",
              "    </tr>\n",
              "    <tr>\n",
              "      <th>max</th>\n",
              "      <td>24.00000</td>\n",
              "    </tr>\n",
              "  </tbody>\n",
              "</table>\n",
              "</div>\n",
              "      <button class=\"colab-df-convert\" onclick=\"convertToInteractive('df-e2c450fa-a24a-4e7d-bc8a-0137a0bb400e')\"\n",
              "              title=\"Convert this dataframe to an interactive table.\"\n",
              "              style=\"display:none;\">\n",
              "        \n",
              "  <svg xmlns=\"http://www.w3.org/2000/svg\" height=\"24px\"viewBox=\"0 0 24 24\"\n",
              "       width=\"24px\">\n",
              "    <path d=\"M0 0h24v24H0V0z\" fill=\"none\"/>\n",
              "    <path d=\"M18.56 5.44l.94 2.06.94-2.06 2.06-.94-2.06-.94-.94-2.06-.94 2.06-2.06.94zm-11 1L8.5 8.5l.94-2.06 2.06-.94-2.06-.94L8.5 2.5l-.94 2.06-2.06.94zm10 10l.94 2.06.94-2.06 2.06-.94-2.06-.94-.94-2.06-.94 2.06-2.06.94z\"/><path d=\"M17.41 7.96l-1.37-1.37c-.4-.4-.92-.59-1.43-.59-.52 0-1.04.2-1.43.59L10.3 9.45l-7.72 7.72c-.78.78-.78 2.05 0 2.83L4 21.41c.39.39.9.59 1.41.59.51 0 1.02-.2 1.41-.59l7.78-7.78 2.81-2.81c.8-.78.8-2.07 0-2.86zM5.41 20L4 18.59l7.72-7.72 1.47 1.35L5.41 20z\"/>\n",
              "  </svg>\n",
              "      </button>\n",
              "      \n",
              "  <style>\n",
              "    .colab-df-container {\n",
              "      display:flex;\n",
              "      flex-wrap:wrap;\n",
              "      gap: 12px;\n",
              "    }\n",
              "\n",
              "    .colab-df-convert {\n",
              "      background-color: #E8F0FE;\n",
              "      border: none;\n",
              "      border-radius: 50%;\n",
              "      cursor: pointer;\n",
              "      display: none;\n",
              "      fill: #1967D2;\n",
              "      height: 32px;\n",
              "      padding: 0 0 0 0;\n",
              "      width: 32px;\n",
              "    }\n",
              "\n",
              "    .colab-df-convert:hover {\n",
              "      background-color: #E2EBFA;\n",
              "      box-shadow: 0px 1px 2px rgba(60, 64, 67, 0.3), 0px 1px 3px 1px rgba(60, 64, 67, 0.15);\n",
              "      fill: #174EA6;\n",
              "    }\n",
              "\n",
              "    [theme=dark] .colab-df-convert {\n",
              "      background-color: #3B4455;\n",
              "      fill: #D2E3FC;\n",
              "    }\n",
              "\n",
              "    [theme=dark] .colab-df-convert:hover {\n",
              "      background-color: #434B5C;\n",
              "      box-shadow: 0px 1px 3px 1px rgba(0, 0, 0, 0.15);\n",
              "      filter: drop-shadow(0px 1px 2px rgba(0, 0, 0, 0.3));\n",
              "      fill: #FFFFFF;\n",
              "    }\n",
              "  </style>\n",
              "\n",
              "      <script>\n",
              "        const buttonEl =\n",
              "          document.querySelector('#df-e2c450fa-a24a-4e7d-bc8a-0137a0bb400e button.colab-df-convert');\n",
              "        buttonEl.style.display =\n",
              "          google.colab.kernel.accessAllowed ? 'block' : 'none';\n",
              "\n",
              "        async function convertToInteractive(key) {\n",
              "          const element = document.querySelector('#df-e2c450fa-a24a-4e7d-bc8a-0137a0bb400e');\n",
              "          const dataTable =\n",
              "            await google.colab.kernel.invokeFunction('convertToInteractive',\n",
              "                                                     [key], {});\n",
              "          if (!dataTable) return;\n",
              "\n",
              "          const docLinkHtml = 'Like what you see? Visit the ' +\n",
              "            '<a target=\"_blank\" href=https://colab.research.google.com/notebooks/data_table.ipynb>data table notebook</a>'\n",
              "            + ' to learn more about interactive tables.';\n",
              "          element.innerHTML = '';\n",
              "          dataTable['output_type'] = 'display_data';\n",
              "          await google.colab.output.renderOutput(dataTable, element);\n",
              "          const docLink = document.createElement('div');\n",
              "          docLink.innerHTML = docLinkHtml;\n",
              "          element.appendChild(docLink);\n",
              "        }\n",
              "      </script>\n",
              "    </div>\n",
              "  </div>\n",
              "  "
            ]
          },
          "metadata": {},
          "execution_count": 448
        }
      ]
    },
    {
      "cell_type": "markdown",
      "source": [
        "# Limpeza de dados"
      ],
      "metadata": {
        "id": "dBaRyJi4PkDQ"
      }
    },
    {
      "cell_type": "markdown",
      "source": [
        "A limpeza de dados é uma parte fundamental de um projeto de Data Science, postas as inconsistências que alguns conjuntos de dados podem apresentar. A correção de componentes de um Dataset permite uma manipulação de informações mais coerentes, diversas soluções podem ser exploradas para aprimoramento da análise, algumas serão apresentadas nessa seção."
      ],
      "metadata": {
        "id": "XstjFxSnPoNN"
      }
    },
    {
      "cell_type": "markdown",
      "source": [
        "## Renomeamento de colunas"
      ],
      "metadata": {
        "id": "tMY189NeQa4y"
      }
    },
    {
      "cell_type": "markdown",
      "source": [
        "&nbsp;&nbsp;&nbsp;&nbsp;Um princípio importante a ser considerado na análise de um Dataset é que esse esteja compreensível. Dessa forma, é melhor que os nomes de colunas sejam mais breves e representativos. No Pandas, é possível renomear as colunas de um Dataset de diferentes formas, dentre essas:\n",
        "<ul>\n",
        "<li>Atribuir a df.columns uma lista de Strings (que representam os nomes de colunas)</li>\n",
        "<li>Aplicar a função .rename() no DataFrame, passando um Dictionary cujas Keys são os nomes de colunas originas e os values são os nomes novos das colunas </li>\n",
        "</ul> \n",
        "\n",
        "&nbsp;&nbsp;&nbsp;&nbsp;Aplique seus conhecimentos e renomeie as colunas, respectivamente, para essa lista de Strings:\n",
        "<blockquote>\n",
        " [ 'DateTime' , 'Gender', 'Age', 'Course', 'Year', 'CGPA', 'Marital_Status', 'Depression', 'Anxiety', 'Panic_Attack', 'Treatment' ]\n",
        "\n",
        "</blockquote>"
      ],
      "metadata": {
        "id": "oElV5Qa6Qg6u"
      }
    },
    {
      "cell_type": "code",
      "source": [
        "dataset.columns = [ 'DateTime' , 'Gender', 'Age', 'Course', 'Year', 'CGPA', 'Marital_Status', 'Depression', 'Anxiety', 'Panic_Attack', 'Treatment' ]\n",
        "# usando o .rename(), ficaria dessa forma.\n",
        "#dataset = dataset.rename(columns={'Choose your gender':'Gender', 'What is your course?':'Course', 'Your current year of Study':'Year', 'What is your CGPA?':'CGPA', 'Marital status':'MaritalStatus', 'Do you have Depression?':'Depression', 'Do you have Anxiety?':'Anxiety', 'Do you have Panic attack?':'PanicAttack', 'Did you seek any specialist for a treatment?':'Treatment'})\n"
      ],
      "metadata": {
        "id": "rQ6U81FhShRY"
      },
      "execution_count": 449,
      "outputs": []
    },
    {
      "cell_type": "markdown",
      "source": [
        "## Removendo colunas"
      ],
      "metadata": {
        "id": "gKLnA7ZBSj_M"
      }
    },
    {
      "cell_type": "markdown",
      "source": [
        "&nbsp;&nbsp;&nbsp;&nbsp;Na análise de um Dataset, é provável que existam colunas que são irrelevantes por diversas razões. No Pandas, é possível remover colunas indesejadas com a função .drop(), na qual você tem que passar um parâmetro com keyword chamado columns. Nesse parâmetro, é necessário que você passe uma lista com o nome das colunas indesejadas. \n",
        "\n",
        "&nbsp;&nbsp;&nbsp;&nbsp;Por exemplo: Suponhamos que você deseja remover uma coluna chamada \"Lucros operacionais\" de um DataFrame em que esteja trabalhando, a referência para esse DataFrame é \"df\", o algoritmo em Pandas para removê-la é:\n",
        "\n",
        "<blockquote>\n",
        "\n",
        "df = df.drop(columns = ['Lucros operacionais'])\n",
        "\n",
        "</blockquote>\n",
        "\n",
        "<p>&nbsp;&nbsp;&nbsp;&nbsp;ou</p>\n",
        "\n",
        "<blockquote>\n",
        "\n",
        "df.drop(columns = ['Lucros operacionais'], inplace = True)\n",
        "\n",
        "</blockquote>\n",
        "\n",
        "<p>&nbsp;&nbsp;&nbsp;&nbsp;Dessa forma, podemos observar que conseguimos remover uma coluna do Dataset chamada \"DateTime\", que representa o momento em que a linha do Dataset foi registrada, pois não apresenta nenhuma importância. Aplique seus conhecimentos e remova a coluna \"DateTime\".</p>\n",
        "\n"
      ],
      "metadata": {
        "id": "VLVybTV7Szdr"
      }
    },
    {
      "cell_type": "code",
      "source": [
        "dataset = dataset.drop(columns = ['DateTime'])\n",
        "dataset"
      ],
      "metadata": {
        "id": "U5qm__krU5Vk",
        "colab": {
          "base_uri": "https://localhost:8080/",
          "height": 424
        },
        "outputId": "ff355498-9960-4507-ae06-29b4206bb28b"
      },
      "execution_count": 450,
      "outputs": [
        {
          "output_type": "execute_result",
          "data": {
            "text/plain": [
              "     Gender   Age              Course    Year         CGPA Marital_Status  \\\n",
              "0    Female  18.0         Engineering  year 1  3.00 - 3.49             No   \n",
              "1      Male  21.0   Islamic education  year 2  3.00 - 3.49             No   \n",
              "2      Male  19.0                 BIT  Year 1  3.00 - 3.49             No   \n",
              "3    Female  22.0                Laws  year 3  3.00 - 3.49            Yes   \n",
              "4      Male  23.0        Mathemathics  year 4  3.00 - 3.49             No   \n",
              "..      ...   ...                 ...     ...          ...            ...   \n",
              "96   Female  21.0                 BCS  year 1  3.50 - 4.00             No   \n",
              "97     Male  18.0         Engineering  Year 2  3.00 - 3.49             No   \n",
              "98   Female  19.0            Nursing   Year 3  3.50 - 4.00            Yes   \n",
              "99   Female  23.0    Pendidikan Islam  year 4  3.50 - 4.00             No   \n",
              "100    Male  20.0  Biomedical science  Year 2  3.00 - 3.49             No   \n",
              "\n",
              "    Depression Anxiety Panic_Attack Treatment  \n",
              "0          Yes      No          Yes        No  \n",
              "1           No     Yes           No        No  \n",
              "2          Yes     Yes          Yes        No  \n",
              "3          Yes      No           No        No  \n",
              "4           No      No           No        No  \n",
              "..         ...     ...          ...       ...  \n",
              "96          No     Yes           No        No  \n",
              "97         Yes     Yes           No        No  \n",
              "98         Yes      No          Yes        No  \n",
              "99          No      No           No        No  \n",
              "100         No      No           No        No  \n",
              "\n",
              "[101 rows x 10 columns]"
            ],
            "text/html": [
              "\n",
              "  <div id=\"df-e192fa08-95aa-42a6-ab1e-6f2ad1313e19\">\n",
              "    <div class=\"colab-df-container\">\n",
              "      <div>\n",
              "<style scoped>\n",
              "    .dataframe tbody tr th:only-of-type {\n",
              "        vertical-align: middle;\n",
              "    }\n",
              "\n",
              "    .dataframe tbody tr th {\n",
              "        vertical-align: top;\n",
              "    }\n",
              "\n",
              "    .dataframe thead th {\n",
              "        text-align: right;\n",
              "    }\n",
              "</style>\n",
              "<table border=\"1\" class=\"dataframe\">\n",
              "  <thead>\n",
              "    <tr style=\"text-align: right;\">\n",
              "      <th></th>\n",
              "      <th>Gender</th>\n",
              "      <th>Age</th>\n",
              "      <th>Course</th>\n",
              "      <th>Year</th>\n",
              "      <th>CGPA</th>\n",
              "      <th>Marital_Status</th>\n",
              "      <th>Depression</th>\n",
              "      <th>Anxiety</th>\n",
              "      <th>Panic_Attack</th>\n",
              "      <th>Treatment</th>\n",
              "    </tr>\n",
              "  </thead>\n",
              "  <tbody>\n",
              "    <tr>\n",
              "      <th>0</th>\n",
              "      <td>Female</td>\n",
              "      <td>18.0</td>\n",
              "      <td>Engineering</td>\n",
              "      <td>year 1</td>\n",
              "      <td>3.00 - 3.49</td>\n",
              "      <td>No</td>\n",
              "      <td>Yes</td>\n",
              "      <td>No</td>\n",
              "      <td>Yes</td>\n",
              "      <td>No</td>\n",
              "    </tr>\n",
              "    <tr>\n",
              "      <th>1</th>\n",
              "      <td>Male</td>\n",
              "      <td>21.0</td>\n",
              "      <td>Islamic education</td>\n",
              "      <td>year 2</td>\n",
              "      <td>3.00 - 3.49</td>\n",
              "      <td>No</td>\n",
              "      <td>No</td>\n",
              "      <td>Yes</td>\n",
              "      <td>No</td>\n",
              "      <td>No</td>\n",
              "    </tr>\n",
              "    <tr>\n",
              "      <th>2</th>\n",
              "      <td>Male</td>\n",
              "      <td>19.0</td>\n",
              "      <td>BIT</td>\n",
              "      <td>Year 1</td>\n",
              "      <td>3.00 - 3.49</td>\n",
              "      <td>No</td>\n",
              "      <td>Yes</td>\n",
              "      <td>Yes</td>\n",
              "      <td>Yes</td>\n",
              "      <td>No</td>\n",
              "    </tr>\n",
              "    <tr>\n",
              "      <th>3</th>\n",
              "      <td>Female</td>\n",
              "      <td>22.0</td>\n",
              "      <td>Laws</td>\n",
              "      <td>year 3</td>\n",
              "      <td>3.00 - 3.49</td>\n",
              "      <td>Yes</td>\n",
              "      <td>Yes</td>\n",
              "      <td>No</td>\n",
              "      <td>No</td>\n",
              "      <td>No</td>\n",
              "    </tr>\n",
              "    <tr>\n",
              "      <th>4</th>\n",
              "      <td>Male</td>\n",
              "      <td>23.0</td>\n",
              "      <td>Mathemathics</td>\n",
              "      <td>year 4</td>\n",
              "      <td>3.00 - 3.49</td>\n",
              "      <td>No</td>\n",
              "      <td>No</td>\n",
              "      <td>No</td>\n",
              "      <td>No</td>\n",
              "      <td>No</td>\n",
              "    </tr>\n",
              "    <tr>\n",
              "      <th>...</th>\n",
              "      <td>...</td>\n",
              "      <td>...</td>\n",
              "      <td>...</td>\n",
              "      <td>...</td>\n",
              "      <td>...</td>\n",
              "      <td>...</td>\n",
              "      <td>...</td>\n",
              "      <td>...</td>\n",
              "      <td>...</td>\n",
              "      <td>...</td>\n",
              "    </tr>\n",
              "    <tr>\n",
              "      <th>96</th>\n",
              "      <td>Female</td>\n",
              "      <td>21.0</td>\n",
              "      <td>BCS</td>\n",
              "      <td>year 1</td>\n",
              "      <td>3.50 - 4.00</td>\n",
              "      <td>No</td>\n",
              "      <td>No</td>\n",
              "      <td>Yes</td>\n",
              "      <td>No</td>\n",
              "      <td>No</td>\n",
              "    </tr>\n",
              "    <tr>\n",
              "      <th>97</th>\n",
              "      <td>Male</td>\n",
              "      <td>18.0</td>\n",
              "      <td>Engineering</td>\n",
              "      <td>Year 2</td>\n",
              "      <td>3.00 - 3.49</td>\n",
              "      <td>No</td>\n",
              "      <td>Yes</td>\n",
              "      <td>Yes</td>\n",
              "      <td>No</td>\n",
              "      <td>No</td>\n",
              "    </tr>\n",
              "    <tr>\n",
              "      <th>98</th>\n",
              "      <td>Female</td>\n",
              "      <td>19.0</td>\n",
              "      <td>Nursing</td>\n",
              "      <td>Year 3</td>\n",
              "      <td>3.50 - 4.00</td>\n",
              "      <td>Yes</td>\n",
              "      <td>Yes</td>\n",
              "      <td>No</td>\n",
              "      <td>Yes</td>\n",
              "      <td>No</td>\n",
              "    </tr>\n",
              "    <tr>\n",
              "      <th>99</th>\n",
              "      <td>Female</td>\n",
              "      <td>23.0</td>\n",
              "      <td>Pendidikan Islam</td>\n",
              "      <td>year 4</td>\n",
              "      <td>3.50 - 4.00</td>\n",
              "      <td>No</td>\n",
              "      <td>No</td>\n",
              "      <td>No</td>\n",
              "      <td>No</td>\n",
              "      <td>No</td>\n",
              "    </tr>\n",
              "    <tr>\n",
              "      <th>100</th>\n",
              "      <td>Male</td>\n",
              "      <td>20.0</td>\n",
              "      <td>Biomedical science</td>\n",
              "      <td>Year 2</td>\n",
              "      <td>3.00 - 3.49</td>\n",
              "      <td>No</td>\n",
              "      <td>No</td>\n",
              "      <td>No</td>\n",
              "      <td>No</td>\n",
              "      <td>No</td>\n",
              "    </tr>\n",
              "  </tbody>\n",
              "</table>\n",
              "<p>101 rows × 10 columns</p>\n",
              "</div>\n",
              "      <button class=\"colab-df-convert\" onclick=\"convertToInteractive('df-e192fa08-95aa-42a6-ab1e-6f2ad1313e19')\"\n",
              "              title=\"Convert this dataframe to an interactive table.\"\n",
              "              style=\"display:none;\">\n",
              "        \n",
              "  <svg xmlns=\"http://www.w3.org/2000/svg\" height=\"24px\"viewBox=\"0 0 24 24\"\n",
              "       width=\"24px\">\n",
              "    <path d=\"M0 0h24v24H0V0z\" fill=\"none\"/>\n",
              "    <path d=\"M18.56 5.44l.94 2.06.94-2.06 2.06-.94-2.06-.94-.94-2.06-.94 2.06-2.06.94zm-11 1L8.5 8.5l.94-2.06 2.06-.94-2.06-.94L8.5 2.5l-.94 2.06-2.06.94zm10 10l.94 2.06.94-2.06 2.06-.94-2.06-.94-.94-2.06-.94 2.06-2.06.94z\"/><path d=\"M17.41 7.96l-1.37-1.37c-.4-.4-.92-.59-1.43-.59-.52 0-1.04.2-1.43.59L10.3 9.45l-7.72 7.72c-.78.78-.78 2.05 0 2.83L4 21.41c.39.39.9.59 1.41.59.51 0 1.02-.2 1.41-.59l7.78-7.78 2.81-2.81c.8-.78.8-2.07 0-2.86zM5.41 20L4 18.59l7.72-7.72 1.47 1.35L5.41 20z\"/>\n",
              "  </svg>\n",
              "      </button>\n",
              "      \n",
              "  <style>\n",
              "    .colab-df-container {\n",
              "      display:flex;\n",
              "      flex-wrap:wrap;\n",
              "      gap: 12px;\n",
              "    }\n",
              "\n",
              "    .colab-df-convert {\n",
              "      background-color: #E8F0FE;\n",
              "      border: none;\n",
              "      border-radius: 50%;\n",
              "      cursor: pointer;\n",
              "      display: none;\n",
              "      fill: #1967D2;\n",
              "      height: 32px;\n",
              "      padding: 0 0 0 0;\n",
              "      width: 32px;\n",
              "    }\n",
              "\n",
              "    .colab-df-convert:hover {\n",
              "      background-color: #E2EBFA;\n",
              "      box-shadow: 0px 1px 2px rgba(60, 64, 67, 0.3), 0px 1px 3px 1px rgba(60, 64, 67, 0.15);\n",
              "      fill: #174EA6;\n",
              "    }\n",
              "\n",
              "    [theme=dark] .colab-df-convert {\n",
              "      background-color: #3B4455;\n",
              "      fill: #D2E3FC;\n",
              "    }\n",
              "\n",
              "    [theme=dark] .colab-df-convert:hover {\n",
              "      background-color: #434B5C;\n",
              "      box-shadow: 0px 1px 3px 1px rgba(0, 0, 0, 0.15);\n",
              "      filter: drop-shadow(0px 1px 2px rgba(0, 0, 0, 0.3));\n",
              "      fill: #FFFFFF;\n",
              "    }\n",
              "  </style>\n",
              "\n",
              "      <script>\n",
              "        const buttonEl =\n",
              "          document.querySelector('#df-e192fa08-95aa-42a6-ab1e-6f2ad1313e19 button.colab-df-convert');\n",
              "        buttonEl.style.display =\n",
              "          google.colab.kernel.accessAllowed ? 'block' : 'none';\n",
              "\n",
              "        async function convertToInteractive(key) {\n",
              "          const element = document.querySelector('#df-e192fa08-95aa-42a6-ab1e-6f2ad1313e19');\n",
              "          const dataTable =\n",
              "            await google.colab.kernel.invokeFunction('convertToInteractive',\n",
              "                                                     [key], {});\n",
              "          if (!dataTable) return;\n",
              "\n",
              "          const docLinkHtml = 'Like what you see? Visit the ' +\n",
              "            '<a target=\"_blank\" href=https://colab.research.google.com/notebooks/data_table.ipynb>data table notebook</a>'\n",
              "            + ' to learn more about interactive tables.';\n",
              "          element.innerHTML = '';\n",
              "          dataTable['output_type'] = 'display_data';\n",
              "          await google.colab.output.renderOutput(dataTable, element);\n",
              "          const docLink = document.createElement('div');\n",
              "          docLink.innerHTML = docLinkHtml;\n",
              "          element.appendChild(docLink);\n",
              "        }\n",
              "      </script>\n",
              "    </div>\n",
              "  </div>\n",
              "  "
            ]
          },
          "metadata": {},
          "execution_count": 450
        }
      ]
    },
    {
      "cell_type": "markdown",
      "source": [
        "## Tratando valores nulos"
      ],
      "metadata": {
        "id": "UK4NUDsSU8Xi"
      }
    },
    {
      "cell_type": "markdown",
      "source": [
        "&nbsp;&nbsp;&nbsp;&nbsp;Diversos Datasets apresentam valores nulos, que são dados que deveriam estar em uma célula do DataFrame, mas não estão. No Pandas, o valor nulo dentro de uma célula pertence a um tipo chamado NaN (Not a number) e pode ser facilmente tratado utilizando certas funções.\n",
        "\n",
        "&nbsp;&nbsp;&nbsp;&nbsp;É importante lembrar que, a depender das colunas onde os valores NaN estão, o tratamento será diferente. Por exemplo: Um valor nulo em uma coluna cujo tipo de dados seja inteiro vai ser substituído por um tipo de dados diferente do que seria trocado em uma coluna de Strings.\n",
        "\n",
        "&nbsp;&nbsp;&nbsp;&nbsp;No Pandas, é possível verificar se uma célula é nula utilizando a função .isnull() no DataFrame. Porém, isso irá ficar visualmente poluído e o nosso objetivo é saber a quantidade de nulos, para isso é necessário chamar o .isnull() em conjunto com .sum(), que irá fazer a contagem dos valores NaN no DataFrame. Descubra abaixo a quantidade de valores NaN no DataFrame."
      ],
      "metadata": {
        "id": "sotCbG7qU-U_"
      }
    },
    {
      "cell_type": "code",
      "source": [
        "dataset.isnull().sum()"
      ],
      "metadata": {
        "id": "uTyQIUhlYIcN",
        "colab": {
          "base_uri": "https://localhost:8080/"
        },
        "outputId": "4d6065b5-4349-4864-e1d4-6c2fba5ba521"
      },
      "execution_count": 451,
      "outputs": [
        {
          "output_type": "execute_result",
          "data": {
            "text/plain": [
              "Gender            0\n",
              "Age               1\n",
              "Course            0\n",
              "Year              0\n",
              "CGPA              0\n",
              "Marital_Status    0\n",
              "Depression        0\n",
              "Anxiety           0\n",
              "Panic_Attack      0\n",
              "Treatment         0\n",
              "dtype: int64"
            ]
          },
          "metadata": {},
          "execution_count": 451
        }
      ]
    },
    {
      "cell_type": "markdown",
      "source": [
        "&nbsp;&nbsp;&nbsp;&nbsp;É possível observar no resultado acima que uma coluna possui valores NaN, então temos que analisar o que faremos a respeito dessa coluna. Um bom ponto de partida é aplicar a função .describe() na coluna em questão."
      ],
      "metadata": {
        "id": "bivnVBVXXLEJ"
      }
    },
    {
      "cell_type": "code",
      "source": [
        "dataset['Age'].describe()"
      ],
      "metadata": {
        "id": "OxzjYODGYHTg",
        "colab": {
          "base_uri": "https://localhost:8080/"
        },
        "outputId": "d35996d3-ba9b-4b30-f220-b9d523ce45be"
      },
      "execution_count": 452,
      "outputs": [
        {
          "output_type": "execute_result",
          "data": {
            "text/plain": [
              "count    100.00000\n",
              "mean      20.53000\n",
              "std        2.49628\n",
              "min       18.00000\n",
              "25%       18.00000\n",
              "50%       19.00000\n",
              "75%       23.00000\n",
              "max       24.00000\n",
              "Name: Age, dtype: float64"
            ]
          },
          "metadata": {},
          "execution_count": 452
        }
      ]
    },
    {
      "cell_type": "markdown",
      "source": [
        "&nbsp;&nbsp;&nbsp;&nbsp;Como o tipo de dados que a coluna consiste é inteiro, temos algumas alternativas a serem consideradas:\n",
        "<ul>\n",
        "<li>Trocar o valor NaN pela mediana dos valores da coluna</li>\n",
        "<li>Trocar o valor NaN por zero</li>\n",
        "<li>Remover a linha com esse valor</li>\n",
        "</ul> \n",
        "\n",
        "&nbsp;&nbsp;&nbsp;&nbsp;Dentre essas alternativas, a única inviável é trocar NaN por zero, pois como se trata de uma coluna de idade, é bastante improvável que um bebê de menos de 1 ano esteja na universidade (muito menos que ele esteja com depressão até onde eu sei).\n",
        "\n",
        "&nbsp;&nbsp;&nbsp;&nbsp;Para trocar o valor NaN por outro, utiliza-se a função .fillna(). Caso você chame essa função no DataFrame, todos valores NaN no DataFrame serão trocados pelo valor especificado, por isso, é mais recomendável aplicar essa função apenas na coluna analisada.\n",
        "\n",
        "&nbsp;&nbsp;&nbsp;&nbsp;Para substituir os valores NaN de uma coluna 'col1' pela mediana da coluna aplica-se:\n",
        "\n",
        "<blockquote>\n",
        "df['col1'] = df['col1'].fillna(df['col1'].median())\n",
        "</blockquote>\n",
        "\n",
        "&nbsp;&nbsp;&nbsp;&nbsp;Dessa forma, substitua os valores NaN da coluna com valores NaN pela mediana."
      ],
      "metadata": {
        "id": "iQFdYvf2YSYS"
      }
    },
    {
      "cell_type": "code",
      "source": [
        "dataset['Age'] = dataset['Age'].fillna(dataset['Age'].median())\n",
        "dataset"
      ],
      "metadata": {
        "id": "XwS65FMebBCz",
        "colab": {
          "base_uri": "https://localhost:8080/",
          "height": 424
        },
        "outputId": "f680a53c-8624-41b3-bc66-8be548370768"
      },
      "execution_count": 453,
      "outputs": [
        {
          "output_type": "execute_result",
          "data": {
            "text/plain": [
              "     Gender   Age              Course    Year         CGPA Marital_Status  \\\n",
              "0    Female  18.0         Engineering  year 1  3.00 - 3.49             No   \n",
              "1      Male  21.0   Islamic education  year 2  3.00 - 3.49             No   \n",
              "2      Male  19.0                 BIT  Year 1  3.00 - 3.49             No   \n",
              "3    Female  22.0                Laws  year 3  3.00 - 3.49            Yes   \n",
              "4      Male  23.0        Mathemathics  year 4  3.00 - 3.49             No   \n",
              "..      ...   ...                 ...     ...          ...            ...   \n",
              "96   Female  21.0                 BCS  year 1  3.50 - 4.00             No   \n",
              "97     Male  18.0         Engineering  Year 2  3.00 - 3.49             No   \n",
              "98   Female  19.0            Nursing   Year 3  3.50 - 4.00            Yes   \n",
              "99   Female  23.0    Pendidikan Islam  year 4  3.50 - 4.00             No   \n",
              "100    Male  20.0  Biomedical science  Year 2  3.00 - 3.49             No   \n",
              "\n",
              "    Depression Anxiety Panic_Attack Treatment  \n",
              "0          Yes      No          Yes        No  \n",
              "1           No     Yes           No        No  \n",
              "2          Yes     Yes          Yes        No  \n",
              "3          Yes      No           No        No  \n",
              "4           No      No           No        No  \n",
              "..         ...     ...          ...       ...  \n",
              "96          No     Yes           No        No  \n",
              "97         Yes     Yes           No        No  \n",
              "98         Yes      No          Yes        No  \n",
              "99          No      No           No        No  \n",
              "100         No      No           No        No  \n",
              "\n",
              "[101 rows x 10 columns]"
            ],
            "text/html": [
              "\n",
              "  <div id=\"df-3eed12ac-e7dc-47e2-9b81-02e0c7cbf653\">\n",
              "    <div class=\"colab-df-container\">\n",
              "      <div>\n",
              "<style scoped>\n",
              "    .dataframe tbody tr th:only-of-type {\n",
              "        vertical-align: middle;\n",
              "    }\n",
              "\n",
              "    .dataframe tbody tr th {\n",
              "        vertical-align: top;\n",
              "    }\n",
              "\n",
              "    .dataframe thead th {\n",
              "        text-align: right;\n",
              "    }\n",
              "</style>\n",
              "<table border=\"1\" class=\"dataframe\">\n",
              "  <thead>\n",
              "    <tr style=\"text-align: right;\">\n",
              "      <th></th>\n",
              "      <th>Gender</th>\n",
              "      <th>Age</th>\n",
              "      <th>Course</th>\n",
              "      <th>Year</th>\n",
              "      <th>CGPA</th>\n",
              "      <th>Marital_Status</th>\n",
              "      <th>Depression</th>\n",
              "      <th>Anxiety</th>\n",
              "      <th>Panic_Attack</th>\n",
              "      <th>Treatment</th>\n",
              "    </tr>\n",
              "  </thead>\n",
              "  <tbody>\n",
              "    <tr>\n",
              "      <th>0</th>\n",
              "      <td>Female</td>\n",
              "      <td>18.0</td>\n",
              "      <td>Engineering</td>\n",
              "      <td>year 1</td>\n",
              "      <td>3.00 - 3.49</td>\n",
              "      <td>No</td>\n",
              "      <td>Yes</td>\n",
              "      <td>No</td>\n",
              "      <td>Yes</td>\n",
              "      <td>No</td>\n",
              "    </tr>\n",
              "    <tr>\n",
              "      <th>1</th>\n",
              "      <td>Male</td>\n",
              "      <td>21.0</td>\n",
              "      <td>Islamic education</td>\n",
              "      <td>year 2</td>\n",
              "      <td>3.00 - 3.49</td>\n",
              "      <td>No</td>\n",
              "      <td>No</td>\n",
              "      <td>Yes</td>\n",
              "      <td>No</td>\n",
              "      <td>No</td>\n",
              "    </tr>\n",
              "    <tr>\n",
              "      <th>2</th>\n",
              "      <td>Male</td>\n",
              "      <td>19.0</td>\n",
              "      <td>BIT</td>\n",
              "      <td>Year 1</td>\n",
              "      <td>3.00 - 3.49</td>\n",
              "      <td>No</td>\n",
              "      <td>Yes</td>\n",
              "      <td>Yes</td>\n",
              "      <td>Yes</td>\n",
              "      <td>No</td>\n",
              "    </tr>\n",
              "    <tr>\n",
              "      <th>3</th>\n",
              "      <td>Female</td>\n",
              "      <td>22.0</td>\n",
              "      <td>Laws</td>\n",
              "      <td>year 3</td>\n",
              "      <td>3.00 - 3.49</td>\n",
              "      <td>Yes</td>\n",
              "      <td>Yes</td>\n",
              "      <td>No</td>\n",
              "      <td>No</td>\n",
              "      <td>No</td>\n",
              "    </tr>\n",
              "    <tr>\n",
              "      <th>4</th>\n",
              "      <td>Male</td>\n",
              "      <td>23.0</td>\n",
              "      <td>Mathemathics</td>\n",
              "      <td>year 4</td>\n",
              "      <td>3.00 - 3.49</td>\n",
              "      <td>No</td>\n",
              "      <td>No</td>\n",
              "      <td>No</td>\n",
              "      <td>No</td>\n",
              "      <td>No</td>\n",
              "    </tr>\n",
              "    <tr>\n",
              "      <th>...</th>\n",
              "      <td>...</td>\n",
              "      <td>...</td>\n",
              "      <td>...</td>\n",
              "      <td>...</td>\n",
              "      <td>...</td>\n",
              "      <td>...</td>\n",
              "      <td>...</td>\n",
              "      <td>...</td>\n",
              "      <td>...</td>\n",
              "      <td>...</td>\n",
              "    </tr>\n",
              "    <tr>\n",
              "      <th>96</th>\n",
              "      <td>Female</td>\n",
              "      <td>21.0</td>\n",
              "      <td>BCS</td>\n",
              "      <td>year 1</td>\n",
              "      <td>3.50 - 4.00</td>\n",
              "      <td>No</td>\n",
              "      <td>No</td>\n",
              "      <td>Yes</td>\n",
              "      <td>No</td>\n",
              "      <td>No</td>\n",
              "    </tr>\n",
              "    <tr>\n",
              "      <th>97</th>\n",
              "      <td>Male</td>\n",
              "      <td>18.0</td>\n",
              "      <td>Engineering</td>\n",
              "      <td>Year 2</td>\n",
              "      <td>3.00 - 3.49</td>\n",
              "      <td>No</td>\n",
              "      <td>Yes</td>\n",
              "      <td>Yes</td>\n",
              "      <td>No</td>\n",
              "      <td>No</td>\n",
              "    </tr>\n",
              "    <tr>\n",
              "      <th>98</th>\n",
              "      <td>Female</td>\n",
              "      <td>19.0</td>\n",
              "      <td>Nursing</td>\n",
              "      <td>Year 3</td>\n",
              "      <td>3.50 - 4.00</td>\n",
              "      <td>Yes</td>\n",
              "      <td>Yes</td>\n",
              "      <td>No</td>\n",
              "      <td>Yes</td>\n",
              "      <td>No</td>\n",
              "    </tr>\n",
              "    <tr>\n",
              "      <th>99</th>\n",
              "      <td>Female</td>\n",
              "      <td>23.0</td>\n",
              "      <td>Pendidikan Islam</td>\n",
              "      <td>year 4</td>\n",
              "      <td>3.50 - 4.00</td>\n",
              "      <td>No</td>\n",
              "      <td>No</td>\n",
              "      <td>No</td>\n",
              "      <td>No</td>\n",
              "      <td>No</td>\n",
              "    </tr>\n",
              "    <tr>\n",
              "      <th>100</th>\n",
              "      <td>Male</td>\n",
              "      <td>20.0</td>\n",
              "      <td>Biomedical science</td>\n",
              "      <td>Year 2</td>\n",
              "      <td>3.00 - 3.49</td>\n",
              "      <td>No</td>\n",
              "      <td>No</td>\n",
              "      <td>No</td>\n",
              "      <td>No</td>\n",
              "      <td>No</td>\n",
              "    </tr>\n",
              "  </tbody>\n",
              "</table>\n",
              "<p>101 rows × 10 columns</p>\n",
              "</div>\n",
              "      <button class=\"colab-df-convert\" onclick=\"convertToInteractive('df-3eed12ac-e7dc-47e2-9b81-02e0c7cbf653')\"\n",
              "              title=\"Convert this dataframe to an interactive table.\"\n",
              "              style=\"display:none;\">\n",
              "        \n",
              "  <svg xmlns=\"http://www.w3.org/2000/svg\" height=\"24px\"viewBox=\"0 0 24 24\"\n",
              "       width=\"24px\">\n",
              "    <path d=\"M0 0h24v24H0V0z\" fill=\"none\"/>\n",
              "    <path d=\"M18.56 5.44l.94 2.06.94-2.06 2.06-.94-2.06-.94-.94-2.06-.94 2.06-2.06.94zm-11 1L8.5 8.5l.94-2.06 2.06-.94-2.06-.94L8.5 2.5l-.94 2.06-2.06.94zm10 10l.94 2.06.94-2.06 2.06-.94-2.06-.94-.94-2.06-.94 2.06-2.06.94z\"/><path d=\"M17.41 7.96l-1.37-1.37c-.4-.4-.92-.59-1.43-.59-.52 0-1.04.2-1.43.59L10.3 9.45l-7.72 7.72c-.78.78-.78 2.05 0 2.83L4 21.41c.39.39.9.59 1.41.59.51 0 1.02-.2 1.41-.59l7.78-7.78 2.81-2.81c.8-.78.8-2.07 0-2.86zM5.41 20L4 18.59l7.72-7.72 1.47 1.35L5.41 20z\"/>\n",
              "  </svg>\n",
              "      </button>\n",
              "      \n",
              "  <style>\n",
              "    .colab-df-container {\n",
              "      display:flex;\n",
              "      flex-wrap:wrap;\n",
              "      gap: 12px;\n",
              "    }\n",
              "\n",
              "    .colab-df-convert {\n",
              "      background-color: #E8F0FE;\n",
              "      border: none;\n",
              "      border-radius: 50%;\n",
              "      cursor: pointer;\n",
              "      display: none;\n",
              "      fill: #1967D2;\n",
              "      height: 32px;\n",
              "      padding: 0 0 0 0;\n",
              "      width: 32px;\n",
              "    }\n",
              "\n",
              "    .colab-df-convert:hover {\n",
              "      background-color: #E2EBFA;\n",
              "      box-shadow: 0px 1px 2px rgba(60, 64, 67, 0.3), 0px 1px 3px 1px rgba(60, 64, 67, 0.15);\n",
              "      fill: #174EA6;\n",
              "    }\n",
              "\n",
              "    [theme=dark] .colab-df-convert {\n",
              "      background-color: #3B4455;\n",
              "      fill: #D2E3FC;\n",
              "    }\n",
              "\n",
              "    [theme=dark] .colab-df-convert:hover {\n",
              "      background-color: #434B5C;\n",
              "      box-shadow: 0px 1px 3px 1px rgba(0, 0, 0, 0.15);\n",
              "      filter: drop-shadow(0px 1px 2px rgba(0, 0, 0, 0.3));\n",
              "      fill: #FFFFFF;\n",
              "    }\n",
              "  </style>\n",
              "\n",
              "      <script>\n",
              "        const buttonEl =\n",
              "          document.querySelector('#df-3eed12ac-e7dc-47e2-9b81-02e0c7cbf653 button.colab-df-convert');\n",
              "        buttonEl.style.display =\n",
              "          google.colab.kernel.accessAllowed ? 'block' : 'none';\n",
              "\n",
              "        async function convertToInteractive(key) {\n",
              "          const element = document.querySelector('#df-3eed12ac-e7dc-47e2-9b81-02e0c7cbf653');\n",
              "          const dataTable =\n",
              "            await google.colab.kernel.invokeFunction('convertToInteractive',\n",
              "                                                     [key], {});\n",
              "          if (!dataTable) return;\n",
              "\n",
              "          const docLinkHtml = 'Like what you see? Visit the ' +\n",
              "            '<a target=\"_blank\" href=https://colab.research.google.com/notebooks/data_table.ipynb>data table notebook</a>'\n",
              "            + ' to learn more about interactive tables.';\n",
              "          element.innerHTML = '';\n",
              "          dataTable['output_type'] = 'display_data';\n",
              "          await google.colab.output.renderOutput(dataTable, element);\n",
              "          const docLink = document.createElement('div');\n",
              "          docLink.innerHTML = docLinkHtml;\n",
              "          element.appendChild(docLink);\n",
              "        }\n",
              "      </script>\n",
              "    </div>\n",
              "  </div>\n",
              "  "
            ]
          },
          "metadata": {},
          "execution_count": 453
        }
      ]
    },
    {
      "cell_type": "markdown",
      "source": [
        "&nbsp;&nbsp;&nbsp;&nbsp;Alternativamente, seu você preferir remover a linha com valores NaN, aplique a função .dropna().\n",
        "\n",
        "&nbsp;&nbsp;&nbsp;&nbsp;Para a remoção de colunas com valor NaN, aplique .dropna(axis='columns')"
      ],
      "metadata": {
        "id": "8VDlJ3Wdbl2d"
      }
    },
    {
      "cell_type": "markdown",
      "source": [
        "## Formatando colunas"
      ],
      "metadata": {
        "id": "VPMOuQr1b-X-"
      }
    },
    {
      "cell_type": "markdown",
      "source": [
        "&nbsp;&nbsp;&nbsp;&nbsp;Os dados contidos em certas colunas necessitam de certas alterações, baseado nas necessidades que o cientista de dados avalia para a análise.\n",
        "Por exemplo: Uma coluna que represente valores de lucro bruto pode ter um tipo de dados de String, mas isso não é ideal, pois não será possível fazer operações aritméticas com esses dados, a solução ideal seria trocá-lo para um valor float.\n",
        "<br>\n",
        "&nbsp;&nbsp;&nbsp;&nbsp;A coluna \"Age\" contém valores float, como pode ser observado na seguinte célula:"
      ],
      "metadata": {
        "id": "kyxXwy2zcF-r"
      }
    },
    {
      "cell_type": "code",
      "source": [
        "# dtype significa 'data type'\n",
        "dataset[\"Age\"].dtype"
      ],
      "metadata": {
        "colab": {
          "base_uri": "https://localhost:8080/"
        },
        "id": "KmnlJF-Ik02C",
        "outputId": "cc94b524-a73d-4f1c-cf9a-765eca782639"
      },
      "execution_count": 454,
      "outputs": [
        {
          "output_type": "execute_result",
          "data": {
            "text/plain": [
              "dtype('float64')"
            ]
          },
          "metadata": {},
          "execution_count": 454
        }
      ]
    },
    {
      "cell_type": "markdown",
      "source": [
        "&nbsp;&nbsp;&nbsp;&nbsp;Isso não é o ideal, pois valores de idade são inteiros. Para trocar os valores da coluna \"Age\" para inteiros, utiliza-se a função .astype(int) na coluna em questão."
      ],
      "metadata": {
        "id": "c1i03Ue_lXG0"
      }
    },
    {
      "cell_type": "code",
      "source": [
        "dataset['Age'] = dataset[\"Age\"].astype(int)\n",
        "dataset"
      ],
      "metadata": {
        "id": "deClBP2Dl4pJ",
        "colab": {
          "base_uri": "https://localhost:8080/",
          "height": 424
        },
        "outputId": "e3e333a5-e837-4808-84d9-3f0a2e17e240"
      },
      "execution_count": 455,
      "outputs": [
        {
          "output_type": "execute_result",
          "data": {
            "text/plain": [
              "     Gender  Age              Course    Year         CGPA Marital_Status  \\\n",
              "0    Female   18         Engineering  year 1  3.00 - 3.49             No   \n",
              "1      Male   21   Islamic education  year 2  3.00 - 3.49             No   \n",
              "2      Male   19                 BIT  Year 1  3.00 - 3.49             No   \n",
              "3    Female   22                Laws  year 3  3.00 - 3.49            Yes   \n",
              "4      Male   23        Mathemathics  year 4  3.00 - 3.49             No   \n",
              "..      ...  ...                 ...     ...          ...            ...   \n",
              "96   Female   21                 BCS  year 1  3.50 - 4.00             No   \n",
              "97     Male   18         Engineering  Year 2  3.00 - 3.49             No   \n",
              "98   Female   19            Nursing   Year 3  3.50 - 4.00            Yes   \n",
              "99   Female   23    Pendidikan Islam  year 4  3.50 - 4.00             No   \n",
              "100    Male   20  Biomedical science  Year 2  3.00 - 3.49             No   \n",
              "\n",
              "    Depression Anxiety Panic_Attack Treatment  \n",
              "0          Yes      No          Yes        No  \n",
              "1           No     Yes           No        No  \n",
              "2          Yes     Yes          Yes        No  \n",
              "3          Yes      No           No        No  \n",
              "4           No      No           No        No  \n",
              "..         ...     ...          ...       ...  \n",
              "96          No     Yes           No        No  \n",
              "97         Yes     Yes           No        No  \n",
              "98         Yes      No          Yes        No  \n",
              "99          No      No           No        No  \n",
              "100         No      No           No        No  \n",
              "\n",
              "[101 rows x 10 columns]"
            ],
            "text/html": [
              "\n",
              "  <div id=\"df-b118c51a-71b1-4f1e-90f2-1906bcf52be4\">\n",
              "    <div class=\"colab-df-container\">\n",
              "      <div>\n",
              "<style scoped>\n",
              "    .dataframe tbody tr th:only-of-type {\n",
              "        vertical-align: middle;\n",
              "    }\n",
              "\n",
              "    .dataframe tbody tr th {\n",
              "        vertical-align: top;\n",
              "    }\n",
              "\n",
              "    .dataframe thead th {\n",
              "        text-align: right;\n",
              "    }\n",
              "</style>\n",
              "<table border=\"1\" class=\"dataframe\">\n",
              "  <thead>\n",
              "    <tr style=\"text-align: right;\">\n",
              "      <th></th>\n",
              "      <th>Gender</th>\n",
              "      <th>Age</th>\n",
              "      <th>Course</th>\n",
              "      <th>Year</th>\n",
              "      <th>CGPA</th>\n",
              "      <th>Marital_Status</th>\n",
              "      <th>Depression</th>\n",
              "      <th>Anxiety</th>\n",
              "      <th>Panic_Attack</th>\n",
              "      <th>Treatment</th>\n",
              "    </tr>\n",
              "  </thead>\n",
              "  <tbody>\n",
              "    <tr>\n",
              "      <th>0</th>\n",
              "      <td>Female</td>\n",
              "      <td>18</td>\n",
              "      <td>Engineering</td>\n",
              "      <td>year 1</td>\n",
              "      <td>3.00 - 3.49</td>\n",
              "      <td>No</td>\n",
              "      <td>Yes</td>\n",
              "      <td>No</td>\n",
              "      <td>Yes</td>\n",
              "      <td>No</td>\n",
              "    </tr>\n",
              "    <tr>\n",
              "      <th>1</th>\n",
              "      <td>Male</td>\n",
              "      <td>21</td>\n",
              "      <td>Islamic education</td>\n",
              "      <td>year 2</td>\n",
              "      <td>3.00 - 3.49</td>\n",
              "      <td>No</td>\n",
              "      <td>No</td>\n",
              "      <td>Yes</td>\n",
              "      <td>No</td>\n",
              "      <td>No</td>\n",
              "    </tr>\n",
              "    <tr>\n",
              "      <th>2</th>\n",
              "      <td>Male</td>\n",
              "      <td>19</td>\n",
              "      <td>BIT</td>\n",
              "      <td>Year 1</td>\n",
              "      <td>3.00 - 3.49</td>\n",
              "      <td>No</td>\n",
              "      <td>Yes</td>\n",
              "      <td>Yes</td>\n",
              "      <td>Yes</td>\n",
              "      <td>No</td>\n",
              "    </tr>\n",
              "    <tr>\n",
              "      <th>3</th>\n",
              "      <td>Female</td>\n",
              "      <td>22</td>\n",
              "      <td>Laws</td>\n",
              "      <td>year 3</td>\n",
              "      <td>3.00 - 3.49</td>\n",
              "      <td>Yes</td>\n",
              "      <td>Yes</td>\n",
              "      <td>No</td>\n",
              "      <td>No</td>\n",
              "      <td>No</td>\n",
              "    </tr>\n",
              "    <tr>\n",
              "      <th>4</th>\n",
              "      <td>Male</td>\n",
              "      <td>23</td>\n",
              "      <td>Mathemathics</td>\n",
              "      <td>year 4</td>\n",
              "      <td>3.00 - 3.49</td>\n",
              "      <td>No</td>\n",
              "      <td>No</td>\n",
              "      <td>No</td>\n",
              "      <td>No</td>\n",
              "      <td>No</td>\n",
              "    </tr>\n",
              "    <tr>\n",
              "      <th>...</th>\n",
              "      <td>...</td>\n",
              "      <td>...</td>\n",
              "      <td>...</td>\n",
              "      <td>...</td>\n",
              "      <td>...</td>\n",
              "      <td>...</td>\n",
              "      <td>...</td>\n",
              "      <td>...</td>\n",
              "      <td>...</td>\n",
              "      <td>...</td>\n",
              "    </tr>\n",
              "    <tr>\n",
              "      <th>96</th>\n",
              "      <td>Female</td>\n",
              "      <td>21</td>\n",
              "      <td>BCS</td>\n",
              "      <td>year 1</td>\n",
              "      <td>3.50 - 4.00</td>\n",
              "      <td>No</td>\n",
              "      <td>No</td>\n",
              "      <td>Yes</td>\n",
              "      <td>No</td>\n",
              "      <td>No</td>\n",
              "    </tr>\n",
              "    <tr>\n",
              "      <th>97</th>\n",
              "      <td>Male</td>\n",
              "      <td>18</td>\n",
              "      <td>Engineering</td>\n",
              "      <td>Year 2</td>\n",
              "      <td>3.00 - 3.49</td>\n",
              "      <td>No</td>\n",
              "      <td>Yes</td>\n",
              "      <td>Yes</td>\n",
              "      <td>No</td>\n",
              "      <td>No</td>\n",
              "    </tr>\n",
              "    <tr>\n",
              "      <th>98</th>\n",
              "      <td>Female</td>\n",
              "      <td>19</td>\n",
              "      <td>Nursing</td>\n",
              "      <td>Year 3</td>\n",
              "      <td>3.50 - 4.00</td>\n",
              "      <td>Yes</td>\n",
              "      <td>Yes</td>\n",
              "      <td>No</td>\n",
              "      <td>Yes</td>\n",
              "      <td>No</td>\n",
              "    </tr>\n",
              "    <tr>\n",
              "      <th>99</th>\n",
              "      <td>Female</td>\n",
              "      <td>23</td>\n",
              "      <td>Pendidikan Islam</td>\n",
              "      <td>year 4</td>\n",
              "      <td>3.50 - 4.00</td>\n",
              "      <td>No</td>\n",
              "      <td>No</td>\n",
              "      <td>No</td>\n",
              "      <td>No</td>\n",
              "      <td>No</td>\n",
              "    </tr>\n",
              "    <tr>\n",
              "      <th>100</th>\n",
              "      <td>Male</td>\n",
              "      <td>20</td>\n",
              "      <td>Biomedical science</td>\n",
              "      <td>Year 2</td>\n",
              "      <td>3.00 - 3.49</td>\n",
              "      <td>No</td>\n",
              "      <td>No</td>\n",
              "      <td>No</td>\n",
              "      <td>No</td>\n",
              "      <td>No</td>\n",
              "    </tr>\n",
              "  </tbody>\n",
              "</table>\n",
              "<p>101 rows × 10 columns</p>\n",
              "</div>\n",
              "      <button class=\"colab-df-convert\" onclick=\"convertToInteractive('df-b118c51a-71b1-4f1e-90f2-1906bcf52be4')\"\n",
              "              title=\"Convert this dataframe to an interactive table.\"\n",
              "              style=\"display:none;\">\n",
              "        \n",
              "  <svg xmlns=\"http://www.w3.org/2000/svg\" height=\"24px\"viewBox=\"0 0 24 24\"\n",
              "       width=\"24px\">\n",
              "    <path d=\"M0 0h24v24H0V0z\" fill=\"none\"/>\n",
              "    <path d=\"M18.56 5.44l.94 2.06.94-2.06 2.06-.94-2.06-.94-.94-2.06-.94 2.06-2.06.94zm-11 1L8.5 8.5l.94-2.06 2.06-.94-2.06-.94L8.5 2.5l-.94 2.06-2.06.94zm10 10l.94 2.06.94-2.06 2.06-.94-2.06-.94-.94-2.06-.94 2.06-2.06.94z\"/><path d=\"M17.41 7.96l-1.37-1.37c-.4-.4-.92-.59-1.43-.59-.52 0-1.04.2-1.43.59L10.3 9.45l-7.72 7.72c-.78.78-.78 2.05 0 2.83L4 21.41c.39.39.9.59 1.41.59.51 0 1.02-.2 1.41-.59l7.78-7.78 2.81-2.81c.8-.78.8-2.07 0-2.86zM5.41 20L4 18.59l7.72-7.72 1.47 1.35L5.41 20z\"/>\n",
              "  </svg>\n",
              "      </button>\n",
              "      \n",
              "  <style>\n",
              "    .colab-df-container {\n",
              "      display:flex;\n",
              "      flex-wrap:wrap;\n",
              "      gap: 12px;\n",
              "    }\n",
              "\n",
              "    .colab-df-convert {\n",
              "      background-color: #E8F0FE;\n",
              "      border: none;\n",
              "      border-radius: 50%;\n",
              "      cursor: pointer;\n",
              "      display: none;\n",
              "      fill: #1967D2;\n",
              "      height: 32px;\n",
              "      padding: 0 0 0 0;\n",
              "      width: 32px;\n",
              "    }\n",
              "\n",
              "    .colab-df-convert:hover {\n",
              "      background-color: #E2EBFA;\n",
              "      box-shadow: 0px 1px 2px rgba(60, 64, 67, 0.3), 0px 1px 3px 1px rgba(60, 64, 67, 0.15);\n",
              "      fill: #174EA6;\n",
              "    }\n",
              "\n",
              "    [theme=dark] .colab-df-convert {\n",
              "      background-color: #3B4455;\n",
              "      fill: #D2E3FC;\n",
              "    }\n",
              "\n",
              "    [theme=dark] .colab-df-convert:hover {\n",
              "      background-color: #434B5C;\n",
              "      box-shadow: 0px 1px 3px 1px rgba(0, 0, 0, 0.15);\n",
              "      filter: drop-shadow(0px 1px 2px rgba(0, 0, 0, 0.3));\n",
              "      fill: #FFFFFF;\n",
              "    }\n",
              "  </style>\n",
              "\n",
              "      <script>\n",
              "        const buttonEl =\n",
              "          document.querySelector('#df-b118c51a-71b1-4f1e-90f2-1906bcf52be4 button.colab-df-convert');\n",
              "        buttonEl.style.display =\n",
              "          google.colab.kernel.accessAllowed ? 'block' : 'none';\n",
              "\n",
              "        async function convertToInteractive(key) {\n",
              "          const element = document.querySelector('#df-b118c51a-71b1-4f1e-90f2-1906bcf52be4');\n",
              "          const dataTable =\n",
              "            await google.colab.kernel.invokeFunction('convertToInteractive',\n",
              "                                                     [key], {});\n",
              "          if (!dataTable) return;\n",
              "\n",
              "          const docLinkHtml = 'Like what you see? Visit the ' +\n",
              "            '<a target=\"_blank\" href=https://colab.research.google.com/notebooks/data_table.ipynb>data table notebook</a>'\n",
              "            + ' to learn more about interactive tables.';\n",
              "          element.innerHTML = '';\n",
              "          dataTable['output_type'] = 'display_data';\n",
              "          await google.colab.output.renderOutput(dataTable, element);\n",
              "          const docLink = document.createElement('div');\n",
              "          docLink.innerHTML = docLinkHtml;\n",
              "          element.appendChild(docLink);\n",
              "        }\n",
              "      </script>\n",
              "    </div>\n",
              "  </div>\n",
              "  "
            ]
          },
          "metadata": {},
          "execution_count": 455
        }
      ]
    },
    {
      "cell_type": "markdown",
      "source": [
        "&nbsp;&nbsp;&nbsp;&nbsp;Outro ponto a ser analisado é trocar os valores da coluna \"Year\" para dados inteiros. Vamos começar uma análise preliminar de como os dados nessa coluna são analisados utilizando a função .value_counts()"
      ],
      "metadata": {
        "id": "BiVl-jggmLuA"
      }
    },
    {
      "cell_type": "code",
      "source": [
        "dataset.value_counts()"
      ],
      "metadata": {
        "id": "gziCWaaGohWB",
        "colab": {
          "base_uri": "https://localhost:8080/"
        },
        "outputId": "45d8a8cd-4d8a-4075-cf65-bf6fa8cf7d3a"
      },
      "execution_count": 456,
      "outputs": [
        {
          "output_type": "execute_result",
          "data": {
            "text/plain": [
              "Gender  Age  Course              Year    CGPA         Marital_Status  Depression  Anxiety  Panic_Attack  Treatment\n",
              "Female  18   BCS                 year 1  3.00 - 3.49  No              Yes         No       No            No           1\n",
              "        24   Communication       Year 2  3.50 - 4.00  Yes             Yes         Yes      Yes           No           1\n",
              "             engin               year 1  3.50 - 4.00  No              No          No       Yes           No           1\n",
              "             Kop                 year 4  3.00 - 3.49  No              No          Yes      No            No           1\n",
              "             KOE                 year 1  3.50 - 4.00  No              No          Yes      Yes           No           1\n",
              "                                                                                                                     ..\n",
              "        19   Engineering         year 1  3.00 - 3.49  No              No          No       Yes           No           1\n",
              "             Biotechnology       Year 3  0 - 1.99     No              No          No       No            No           1\n",
              "             Biomedical science  year 3  3.00 - 3.49  No              No          No       No            No           1\n",
              "             BIT                 year 1  3.00 - 3.49  No              Yes         Yes      Yes           No           1\n",
              "Male    24   Engineering         Year 2  2.00 - 2.49  No              No          No       Yes           No           1\n",
              "Length: 101, dtype: int64"
            ]
          },
          "metadata": {},
          "execution_count": 456
        }
      ]
    },
    {
      "cell_type": "markdown",
      "source": [
        "&nbsp;&nbsp;&nbsp;&nbsp;Nota-se um erro que consiste na capitalização da primeira letra, algumas soluções para isso são:\n",
        "<ul>\n",
        "<li>Aplicar a função .replace()</li>\n",
        "<li>Utilizar a função .capitalize()</li>\n",
        "<li>Utilizar a função .lower() ou .upper()</li>\n",
        "</ul>\n",
        "\n",
        "&nbsp;&nbsp;&nbsp;&nbsp;A função .replace() troca trechos de Strings por outros trechos, o que facilita bastante nossa análise. A sintaze para isso seria:\n",
        "\n",
        "<blockquote>\n",
        "df = df.replace(\"y\",\"Y\")\n",
        "</blockquote>\n",
        "\n",
        "&nbsp;&nbsp;&nbsp;&nbsp;A função .capitalize() torna a primeira letra da String em sua versão maiúscula. Nesse caso seria bastante prático uma análise com isso, com uma sintaxe equivalente a:\n",
        "\n",
        "<blockquote>\n",
        "df = df.capitalize()\n",
        "</blockquote>\n",
        "\n",
        "&nbsp;&nbsp;&nbsp;&nbsp;A função .toLower() torna todos caracteres da String em minúsculos, a função .upper() faz o contrário (tornando assim maiúsculos). A sintaxe para isso seria:\n",
        "\n",
        "<blockquote>\n",
        "df = df.lower() # para letras minúsculas\n",
        "<br>\n",
        "df = df.upper() # para letras maiúsculas\n",
        "</blockquote>\n",
        "\n",
        "&nbsp;&nbsp;&nbsp;&nbsp;Para aplicar uma dessas funções a todos itens da coluna, utilize uma função chamada \"map\", da seguinte forma:\n",
        "\n",
        "<blockquote>\n",
        "def aux(prompt):<br>\n",
        "&nbsp;&nbsp;&nbsp;&nbsp;return prompt.lower()<br>\n",
        "df[\"Year\"] = list(map(aux,df[\"Year\"]))\n",
        "</blockquote>\n",
        "\n",
        "&nbsp;&nbsp;&nbsp;&nbsp;A função .map() tem como atribuição receber uma lista (nesse caso df[\"Year\"]) e aplicar uma função em cada item dessa lista (essa função nesse caso é \"aux\"). Dessa forma, esse algoritmo diz: Retorne, para cada item dentro de df[\"Year\"], o output desse item na função \"aux\", depois tome esse conjunto de resultados e converta para list. Isso é bastante útil caso queira transformar todos dados dentro de uma lista seguindo um certo padrão.\n",
        "\n",
        "&nbsp;&nbsp;&nbsp;&nbsp;Faça uma das soluções apresentadas acimas para regularizar os dados da coluna \"Year\" (sem ser a com solução completa acima).\n"
      ],
      "metadata": {
        "id": "wJDZTBwVor6I"
      }
    },
    {
      "cell_type": "code",
      "source": [
        "dataset['Year'] = dataset['Year'].str.capitalize()\n",
        "#fazendo o mesmo para a coluna Course por ter cursos com nomes minúsculos tambem.\n",
        "dataset['Course'] = dataset['Course'].str.capitalize()"
      ],
      "metadata": {
        "id": "5xeelYlQmK3i"
      },
      "execution_count": 457,
      "outputs": []
    },
    {
      "cell_type": "code",
      "source": [
        "print(dataset['Year'].value_counts())"
      ],
      "metadata": {
        "colab": {
          "base_uri": "https://localhost:8080/"
        },
        "id": "L5jGXJwsCX2t",
        "outputId": "29e731ed-6ae2-44ba-a203-0d8a59ba2264"
      },
      "execution_count": 458,
      "outputs": [
        {
          "output_type": "stream",
          "name": "stdout",
          "text": [
            "Year 1    43\n",
            "Year 2    26\n",
            "Year 3    24\n",
            "Year 4     8\n",
            "Name: Year, dtype: int64\n"
          ]
        }
      ]
    },
    {
      "cell_type": "markdown",
      "source": [
        "Aplique o .value_counts() nessa coluna para verificar como está a distribuição de dados."
      ],
      "metadata": {
        "id": "pyui9snXskqt"
      }
    },
    {
      "cell_type": "code",
      "source": [
        "dataset.value_counts()"
      ],
      "metadata": {
        "id": "4hntEtBUtfv7",
        "colab": {
          "base_uri": "https://localhost:8080/"
        },
        "outputId": "8781e0d7-8d63-413a-f266-5645511d7d59"
      },
      "execution_count": 459,
      "outputs": [
        {
          "output_type": "execute_result",
          "data": {
            "text/plain": [
              "Gender  Age  Course           Year    CGPA         Marital_Status  Depression  Anxiety  Panic_Attack  Treatment\n",
              "Female  18   Banking studies  Year 1  3.50 - 4.00  No              No          No       No            No           1\n",
              "        24   Communication    Year 2  3.50 - 4.00  Yes             Yes         Yes      Yes           No           1\n",
              "             Kop              Year 4  3.00 - 3.49  No              No          Yes      No            No           1\n",
              "             Koe              Year 1  3.50 - 4.00  No              No          Yes      Yes           No           1\n",
              "             Fiqh             Year 3  0 - 1.99     No              No          No       Yes           No           1\n",
              "                                                                                                                  ..\n",
              "        19   Engineering      Year 1  3.00 - 3.49  No              No          No       Yes           No           1\n",
              "             Bit              Year 3  3.00 - 3.49  Yes             Yes         No       No            No           1\n",
              "                              Year 1  3.00 - 3.49  No              Yes         Yes      Yes           No           1\n",
              "                                      2.50 - 2.99  No              Yes         Yes      Yes           No           1\n",
              "Male    24   Engineering      Year 2  2.00 - 2.49  No              No          No       Yes           No           1\n",
              "Length: 101, dtype: int64"
            ]
          },
          "metadata": {},
          "execution_count": 459
        }
      ]
    },
    {
      "cell_type": "markdown",
      "source": [
        "Para trocar os valores por inteiros, utilize a mesma função map em conjunto com a função .split(). Como isso é um pouco mais complicado, a solução está abaixo."
      ],
      "metadata": {
        "id": "uRykpM1Ytge6"
      }
    },
    {
      "cell_type": "code",
      "source": [
        "def year_to_int(year):\n",
        "  return int(year.split(\" \")[1])\n",
        "\n",
        "dataset[\"Year\"] = list(map(year_to_int,dataset[\"Year\"]))"
      ],
      "metadata": {
        "id": "jUH6CQRntsQR"
      },
      "execution_count": 460,
      "outputs": []
    },
    {
      "cell_type": "markdown",
      "source": [
        "&nbsp;&nbsp;&nbsp;&nbsp;A próxima etapa é substituir os valores da coluna \"CGPA\" para float, o que apresenta-se como um problema pois os valores estão em forma de String. A solução mais viável para uma situação como essa é considerar a maior nota do intervalo como a nota do CGPA correta, caso esse intervalo tenha a segunda casa decimal como 9, adiciona-se 0,01 à nota.\n",
        "&nbsp;&nbsp;&nbsp;&nbsp;O algoritmo para isso seria aplicado dentro da função auxiliar do Map com a verificação da condição supracitada."
      ],
      "metadata": {
        "id": "9XhXY5TSt-a-"
      }
    },
    {
      "cell_type": "code",
      "source": [
        "dataset['CGPA'] = [float(x.split(\"-\")[1]) + 0.01 if x[-1]=='9' else float(x.split(\"-\")[1]) for x in dataset['CGPA']]\n",
        "dataset['CGPA'].value_counts()\n",
        "dataset"
      ],
      "metadata": {
        "id": "7vPG-sa_u-QY",
        "colab": {
          "base_uri": "https://localhost:8080/",
          "height": 424
        },
        "outputId": "db07d24b-6b87-4723-a309-b2cf136aa9de"
      },
      "execution_count": 461,
      "outputs": [
        {
          "output_type": "execute_result",
          "data": {
            "text/plain": [
              "     Gender  Age              Course  Year  CGPA Marital_Status Depression  \\\n",
              "0    Female   18         Engineering     1   3.5             No        Yes   \n",
              "1      Male   21   Islamic education     2   3.5             No         No   \n",
              "2      Male   19                 Bit     1   3.5             No        Yes   \n",
              "3    Female   22                Laws     3   3.5            Yes        Yes   \n",
              "4      Male   23        Mathemathics     4   3.5             No         No   \n",
              "..      ...  ...                 ...   ...   ...            ...        ...   \n",
              "96   Female   21                 Bcs     1   4.0             No         No   \n",
              "97     Male   18         Engineering     2   3.5             No        Yes   \n",
              "98   Female   19            Nursing      3   4.0            Yes        Yes   \n",
              "99   Female   23    Pendidikan islam     4   4.0             No         No   \n",
              "100    Male   20  Biomedical science     2   3.5             No         No   \n",
              "\n",
              "    Anxiety Panic_Attack Treatment  \n",
              "0        No          Yes        No  \n",
              "1       Yes           No        No  \n",
              "2       Yes          Yes        No  \n",
              "3        No           No        No  \n",
              "4        No           No        No  \n",
              "..      ...          ...       ...  \n",
              "96      Yes           No        No  \n",
              "97      Yes           No        No  \n",
              "98       No          Yes        No  \n",
              "99       No           No        No  \n",
              "100      No           No        No  \n",
              "\n",
              "[101 rows x 10 columns]"
            ],
            "text/html": [
              "\n",
              "  <div id=\"df-5b6c05fc-a25f-497f-a26c-c0ce86c522c5\">\n",
              "    <div class=\"colab-df-container\">\n",
              "      <div>\n",
              "<style scoped>\n",
              "    .dataframe tbody tr th:only-of-type {\n",
              "        vertical-align: middle;\n",
              "    }\n",
              "\n",
              "    .dataframe tbody tr th {\n",
              "        vertical-align: top;\n",
              "    }\n",
              "\n",
              "    .dataframe thead th {\n",
              "        text-align: right;\n",
              "    }\n",
              "</style>\n",
              "<table border=\"1\" class=\"dataframe\">\n",
              "  <thead>\n",
              "    <tr style=\"text-align: right;\">\n",
              "      <th></th>\n",
              "      <th>Gender</th>\n",
              "      <th>Age</th>\n",
              "      <th>Course</th>\n",
              "      <th>Year</th>\n",
              "      <th>CGPA</th>\n",
              "      <th>Marital_Status</th>\n",
              "      <th>Depression</th>\n",
              "      <th>Anxiety</th>\n",
              "      <th>Panic_Attack</th>\n",
              "      <th>Treatment</th>\n",
              "    </tr>\n",
              "  </thead>\n",
              "  <tbody>\n",
              "    <tr>\n",
              "      <th>0</th>\n",
              "      <td>Female</td>\n",
              "      <td>18</td>\n",
              "      <td>Engineering</td>\n",
              "      <td>1</td>\n",
              "      <td>3.5</td>\n",
              "      <td>No</td>\n",
              "      <td>Yes</td>\n",
              "      <td>No</td>\n",
              "      <td>Yes</td>\n",
              "      <td>No</td>\n",
              "    </tr>\n",
              "    <tr>\n",
              "      <th>1</th>\n",
              "      <td>Male</td>\n",
              "      <td>21</td>\n",
              "      <td>Islamic education</td>\n",
              "      <td>2</td>\n",
              "      <td>3.5</td>\n",
              "      <td>No</td>\n",
              "      <td>No</td>\n",
              "      <td>Yes</td>\n",
              "      <td>No</td>\n",
              "      <td>No</td>\n",
              "    </tr>\n",
              "    <tr>\n",
              "      <th>2</th>\n",
              "      <td>Male</td>\n",
              "      <td>19</td>\n",
              "      <td>Bit</td>\n",
              "      <td>1</td>\n",
              "      <td>3.5</td>\n",
              "      <td>No</td>\n",
              "      <td>Yes</td>\n",
              "      <td>Yes</td>\n",
              "      <td>Yes</td>\n",
              "      <td>No</td>\n",
              "    </tr>\n",
              "    <tr>\n",
              "      <th>3</th>\n",
              "      <td>Female</td>\n",
              "      <td>22</td>\n",
              "      <td>Laws</td>\n",
              "      <td>3</td>\n",
              "      <td>3.5</td>\n",
              "      <td>Yes</td>\n",
              "      <td>Yes</td>\n",
              "      <td>No</td>\n",
              "      <td>No</td>\n",
              "      <td>No</td>\n",
              "    </tr>\n",
              "    <tr>\n",
              "      <th>4</th>\n",
              "      <td>Male</td>\n",
              "      <td>23</td>\n",
              "      <td>Mathemathics</td>\n",
              "      <td>4</td>\n",
              "      <td>3.5</td>\n",
              "      <td>No</td>\n",
              "      <td>No</td>\n",
              "      <td>No</td>\n",
              "      <td>No</td>\n",
              "      <td>No</td>\n",
              "    </tr>\n",
              "    <tr>\n",
              "      <th>...</th>\n",
              "      <td>...</td>\n",
              "      <td>...</td>\n",
              "      <td>...</td>\n",
              "      <td>...</td>\n",
              "      <td>...</td>\n",
              "      <td>...</td>\n",
              "      <td>...</td>\n",
              "      <td>...</td>\n",
              "      <td>...</td>\n",
              "      <td>...</td>\n",
              "    </tr>\n",
              "    <tr>\n",
              "      <th>96</th>\n",
              "      <td>Female</td>\n",
              "      <td>21</td>\n",
              "      <td>Bcs</td>\n",
              "      <td>1</td>\n",
              "      <td>4.0</td>\n",
              "      <td>No</td>\n",
              "      <td>No</td>\n",
              "      <td>Yes</td>\n",
              "      <td>No</td>\n",
              "      <td>No</td>\n",
              "    </tr>\n",
              "    <tr>\n",
              "      <th>97</th>\n",
              "      <td>Male</td>\n",
              "      <td>18</td>\n",
              "      <td>Engineering</td>\n",
              "      <td>2</td>\n",
              "      <td>3.5</td>\n",
              "      <td>No</td>\n",
              "      <td>Yes</td>\n",
              "      <td>Yes</td>\n",
              "      <td>No</td>\n",
              "      <td>No</td>\n",
              "    </tr>\n",
              "    <tr>\n",
              "      <th>98</th>\n",
              "      <td>Female</td>\n",
              "      <td>19</td>\n",
              "      <td>Nursing</td>\n",
              "      <td>3</td>\n",
              "      <td>4.0</td>\n",
              "      <td>Yes</td>\n",
              "      <td>Yes</td>\n",
              "      <td>No</td>\n",
              "      <td>Yes</td>\n",
              "      <td>No</td>\n",
              "    </tr>\n",
              "    <tr>\n",
              "      <th>99</th>\n",
              "      <td>Female</td>\n",
              "      <td>23</td>\n",
              "      <td>Pendidikan islam</td>\n",
              "      <td>4</td>\n",
              "      <td>4.0</td>\n",
              "      <td>No</td>\n",
              "      <td>No</td>\n",
              "      <td>No</td>\n",
              "      <td>No</td>\n",
              "      <td>No</td>\n",
              "    </tr>\n",
              "    <tr>\n",
              "      <th>100</th>\n",
              "      <td>Male</td>\n",
              "      <td>20</td>\n",
              "      <td>Biomedical science</td>\n",
              "      <td>2</td>\n",
              "      <td>3.5</td>\n",
              "      <td>No</td>\n",
              "      <td>No</td>\n",
              "      <td>No</td>\n",
              "      <td>No</td>\n",
              "      <td>No</td>\n",
              "    </tr>\n",
              "  </tbody>\n",
              "</table>\n",
              "<p>101 rows × 10 columns</p>\n",
              "</div>\n",
              "      <button class=\"colab-df-convert\" onclick=\"convertToInteractive('df-5b6c05fc-a25f-497f-a26c-c0ce86c522c5')\"\n",
              "              title=\"Convert this dataframe to an interactive table.\"\n",
              "              style=\"display:none;\">\n",
              "        \n",
              "  <svg xmlns=\"http://www.w3.org/2000/svg\" height=\"24px\"viewBox=\"0 0 24 24\"\n",
              "       width=\"24px\">\n",
              "    <path d=\"M0 0h24v24H0V0z\" fill=\"none\"/>\n",
              "    <path d=\"M18.56 5.44l.94 2.06.94-2.06 2.06-.94-2.06-.94-.94-2.06-.94 2.06-2.06.94zm-11 1L8.5 8.5l.94-2.06 2.06-.94-2.06-.94L8.5 2.5l-.94 2.06-2.06.94zm10 10l.94 2.06.94-2.06 2.06-.94-2.06-.94-.94-2.06-.94 2.06-2.06.94z\"/><path d=\"M17.41 7.96l-1.37-1.37c-.4-.4-.92-.59-1.43-.59-.52 0-1.04.2-1.43.59L10.3 9.45l-7.72 7.72c-.78.78-.78 2.05 0 2.83L4 21.41c.39.39.9.59 1.41.59.51 0 1.02-.2 1.41-.59l7.78-7.78 2.81-2.81c.8-.78.8-2.07 0-2.86zM5.41 20L4 18.59l7.72-7.72 1.47 1.35L5.41 20z\"/>\n",
              "  </svg>\n",
              "      </button>\n",
              "      \n",
              "  <style>\n",
              "    .colab-df-container {\n",
              "      display:flex;\n",
              "      flex-wrap:wrap;\n",
              "      gap: 12px;\n",
              "    }\n",
              "\n",
              "    .colab-df-convert {\n",
              "      background-color: #E8F0FE;\n",
              "      border: none;\n",
              "      border-radius: 50%;\n",
              "      cursor: pointer;\n",
              "      display: none;\n",
              "      fill: #1967D2;\n",
              "      height: 32px;\n",
              "      padding: 0 0 0 0;\n",
              "      width: 32px;\n",
              "    }\n",
              "\n",
              "    .colab-df-convert:hover {\n",
              "      background-color: #E2EBFA;\n",
              "      box-shadow: 0px 1px 2px rgba(60, 64, 67, 0.3), 0px 1px 3px 1px rgba(60, 64, 67, 0.15);\n",
              "      fill: #174EA6;\n",
              "    }\n",
              "\n",
              "    [theme=dark] .colab-df-convert {\n",
              "      background-color: #3B4455;\n",
              "      fill: #D2E3FC;\n",
              "    }\n",
              "\n",
              "    [theme=dark] .colab-df-convert:hover {\n",
              "      background-color: #434B5C;\n",
              "      box-shadow: 0px 1px 3px 1px rgba(0, 0, 0, 0.15);\n",
              "      filter: drop-shadow(0px 1px 2px rgba(0, 0, 0, 0.3));\n",
              "      fill: #FFFFFF;\n",
              "    }\n",
              "  </style>\n",
              "\n",
              "      <script>\n",
              "        const buttonEl =\n",
              "          document.querySelector('#df-5b6c05fc-a25f-497f-a26c-c0ce86c522c5 button.colab-df-convert');\n",
              "        buttonEl.style.display =\n",
              "          google.colab.kernel.accessAllowed ? 'block' : 'none';\n",
              "\n",
              "        async function convertToInteractive(key) {\n",
              "          const element = document.querySelector('#df-5b6c05fc-a25f-497f-a26c-c0ce86c522c5');\n",
              "          const dataTable =\n",
              "            await google.colab.kernel.invokeFunction('convertToInteractive',\n",
              "                                                     [key], {});\n",
              "          if (!dataTable) return;\n",
              "\n",
              "          const docLinkHtml = 'Like what you see? Visit the ' +\n",
              "            '<a target=\"_blank\" href=https://colab.research.google.com/notebooks/data_table.ipynb>data table notebook</a>'\n",
              "            + ' to learn more about interactive tables.';\n",
              "          element.innerHTML = '';\n",
              "          dataTable['output_type'] = 'display_data';\n",
              "          await google.colab.output.renderOutput(dataTable, element);\n",
              "          const docLink = document.createElement('div');\n",
              "          docLink.innerHTML = docLinkHtml;\n",
              "          element.appendChild(docLink);\n",
              "        }\n",
              "      </script>\n",
              "    </div>\n",
              "  </div>\n",
              "  "
            ]
          },
          "metadata": {},
          "execution_count": 461
        }
      ]
    },
    {
      "cell_type": "markdown",
      "source": [
        "&nbsp;&nbsp;&nbsp;&nbsp;A próxima etapa é análoga à anterior, porém mais simples. Nota-se que certas colunas (as últimas 4) possuem valores de String, porém é totalmente válido trocá-los para números inteiros em forma de números binários, nesse caso \"No\" seria 0 e \"Yes\" seria 1. \n",
        "\n",
        "&nbsp;&nbsp;&nbsp;&nbsp;Para isso, aplica-se uma função em um map para retornar 1 caso a string seja \"Yes\" e 0 caso seja \"No\"."
      ],
      "metadata": {
        "id": "7iP9-9xOvAjk"
      }
    },
    {
      "cell_type": "code",
      "source": [
        "bin = {'Yes': 1,'No':0}\n",
        "\n",
        "dataset['Marital_Status'] = dataset['Marital_Status'].map(bin)\n",
        "dataset['Depression'] = dataset['Depression'].map(bin)\n",
        "dataset['Anxiety'] = dataset['Anxiety'].map(bin)\n",
        "dataset['Panic_Attack'] = dataset['Panic_Attack'].map(bin)\n",
        "dataset['Treatment'] = dataset['Treatment'].map(bin)"
      ],
      "metadata": {
        "id": "AXZCVMVcxgGv"
      },
      "execution_count": 462,
      "outputs": []
    },
    {
      "cell_type": "markdown",
      "source": [
        "&nbsp;&nbsp;&nbsp;&nbsp; Aplique a função .head() para verificar como o DataFrame está."
      ],
      "metadata": {
        "id": "DqGI6Xw2xiS-"
      }
    },
    {
      "cell_type": "code",
      "source": [
        "dataset.head(10)"
      ],
      "metadata": {
        "id": "yXnsgbCfxsd3",
        "colab": {
          "base_uri": "https://localhost:8080/",
          "height": 363
        },
        "outputId": "e598f55d-7371-45b9-dae5-9c1f1856e64c"
      },
      "execution_count": 463,
      "outputs": [
        {
          "output_type": "execute_result",
          "data": {
            "text/plain": [
              "   Gender  Age             Course  Year  CGPA  Marital_Status  Depression  \\\n",
              "0  Female   18        Engineering     1   3.5               0           1   \n",
              "1    Male   21  Islamic education     2   3.5               0           0   \n",
              "2    Male   19                Bit     1   3.5               0           1   \n",
              "3  Female   22               Laws     3   3.5               1           1   \n",
              "4    Male   23       Mathemathics     4   3.5               0           0   \n",
              "5    Male   19        Engineering     2   4.0               0           0   \n",
              "6  Female   23   Pendidikan islam     2   4.0               1           1   \n",
              "7  Female   18                Bcs     1   4.0               0           0   \n",
              "8  Female   19    Human resources     2   3.0               0           0   \n",
              "9    Male   18              Irkhs     1   4.0               0           0   \n",
              "\n",
              "   Anxiety  Panic_Attack  Treatment  \n",
              "0        0             1          0  \n",
              "1        1             0          0  \n",
              "2        1             1          0  \n",
              "3        0             0          0  \n",
              "4        0             0          0  \n",
              "5        0             1          0  \n",
              "6        0             1          0  \n",
              "7        1             0          0  \n",
              "8        0             0          0  \n",
              "9        1             1          0  "
            ],
            "text/html": [
              "\n",
              "  <div id=\"df-671c5a49-9063-4ebe-b869-82b4bd0f91d7\">\n",
              "    <div class=\"colab-df-container\">\n",
              "      <div>\n",
              "<style scoped>\n",
              "    .dataframe tbody tr th:only-of-type {\n",
              "        vertical-align: middle;\n",
              "    }\n",
              "\n",
              "    .dataframe tbody tr th {\n",
              "        vertical-align: top;\n",
              "    }\n",
              "\n",
              "    .dataframe thead th {\n",
              "        text-align: right;\n",
              "    }\n",
              "</style>\n",
              "<table border=\"1\" class=\"dataframe\">\n",
              "  <thead>\n",
              "    <tr style=\"text-align: right;\">\n",
              "      <th></th>\n",
              "      <th>Gender</th>\n",
              "      <th>Age</th>\n",
              "      <th>Course</th>\n",
              "      <th>Year</th>\n",
              "      <th>CGPA</th>\n",
              "      <th>Marital_Status</th>\n",
              "      <th>Depression</th>\n",
              "      <th>Anxiety</th>\n",
              "      <th>Panic_Attack</th>\n",
              "      <th>Treatment</th>\n",
              "    </tr>\n",
              "  </thead>\n",
              "  <tbody>\n",
              "    <tr>\n",
              "      <th>0</th>\n",
              "      <td>Female</td>\n",
              "      <td>18</td>\n",
              "      <td>Engineering</td>\n",
              "      <td>1</td>\n",
              "      <td>3.5</td>\n",
              "      <td>0</td>\n",
              "      <td>1</td>\n",
              "      <td>0</td>\n",
              "      <td>1</td>\n",
              "      <td>0</td>\n",
              "    </tr>\n",
              "    <tr>\n",
              "      <th>1</th>\n",
              "      <td>Male</td>\n",
              "      <td>21</td>\n",
              "      <td>Islamic education</td>\n",
              "      <td>2</td>\n",
              "      <td>3.5</td>\n",
              "      <td>0</td>\n",
              "      <td>0</td>\n",
              "      <td>1</td>\n",
              "      <td>0</td>\n",
              "      <td>0</td>\n",
              "    </tr>\n",
              "    <tr>\n",
              "      <th>2</th>\n",
              "      <td>Male</td>\n",
              "      <td>19</td>\n",
              "      <td>Bit</td>\n",
              "      <td>1</td>\n",
              "      <td>3.5</td>\n",
              "      <td>0</td>\n",
              "      <td>1</td>\n",
              "      <td>1</td>\n",
              "      <td>1</td>\n",
              "      <td>0</td>\n",
              "    </tr>\n",
              "    <tr>\n",
              "      <th>3</th>\n",
              "      <td>Female</td>\n",
              "      <td>22</td>\n",
              "      <td>Laws</td>\n",
              "      <td>3</td>\n",
              "      <td>3.5</td>\n",
              "      <td>1</td>\n",
              "      <td>1</td>\n",
              "      <td>0</td>\n",
              "      <td>0</td>\n",
              "      <td>0</td>\n",
              "    </tr>\n",
              "    <tr>\n",
              "      <th>4</th>\n",
              "      <td>Male</td>\n",
              "      <td>23</td>\n",
              "      <td>Mathemathics</td>\n",
              "      <td>4</td>\n",
              "      <td>3.5</td>\n",
              "      <td>0</td>\n",
              "      <td>0</td>\n",
              "      <td>0</td>\n",
              "      <td>0</td>\n",
              "      <td>0</td>\n",
              "    </tr>\n",
              "    <tr>\n",
              "      <th>5</th>\n",
              "      <td>Male</td>\n",
              "      <td>19</td>\n",
              "      <td>Engineering</td>\n",
              "      <td>2</td>\n",
              "      <td>4.0</td>\n",
              "      <td>0</td>\n",
              "      <td>0</td>\n",
              "      <td>0</td>\n",
              "      <td>1</td>\n",
              "      <td>0</td>\n",
              "    </tr>\n",
              "    <tr>\n",
              "      <th>6</th>\n",
              "      <td>Female</td>\n",
              "      <td>23</td>\n",
              "      <td>Pendidikan islam</td>\n",
              "      <td>2</td>\n",
              "      <td>4.0</td>\n",
              "      <td>1</td>\n",
              "      <td>1</td>\n",
              "      <td>0</td>\n",
              "      <td>1</td>\n",
              "      <td>0</td>\n",
              "    </tr>\n",
              "    <tr>\n",
              "      <th>7</th>\n",
              "      <td>Female</td>\n",
              "      <td>18</td>\n",
              "      <td>Bcs</td>\n",
              "      <td>1</td>\n",
              "      <td>4.0</td>\n",
              "      <td>0</td>\n",
              "      <td>0</td>\n",
              "      <td>1</td>\n",
              "      <td>0</td>\n",
              "      <td>0</td>\n",
              "    </tr>\n",
              "    <tr>\n",
              "      <th>8</th>\n",
              "      <td>Female</td>\n",
              "      <td>19</td>\n",
              "      <td>Human resources</td>\n",
              "      <td>2</td>\n",
              "      <td>3.0</td>\n",
              "      <td>0</td>\n",
              "      <td>0</td>\n",
              "      <td>0</td>\n",
              "      <td>0</td>\n",
              "      <td>0</td>\n",
              "    </tr>\n",
              "    <tr>\n",
              "      <th>9</th>\n",
              "      <td>Male</td>\n",
              "      <td>18</td>\n",
              "      <td>Irkhs</td>\n",
              "      <td>1</td>\n",
              "      <td>4.0</td>\n",
              "      <td>0</td>\n",
              "      <td>0</td>\n",
              "      <td>1</td>\n",
              "      <td>1</td>\n",
              "      <td>0</td>\n",
              "    </tr>\n",
              "  </tbody>\n",
              "</table>\n",
              "</div>\n",
              "      <button class=\"colab-df-convert\" onclick=\"convertToInteractive('df-671c5a49-9063-4ebe-b869-82b4bd0f91d7')\"\n",
              "              title=\"Convert this dataframe to an interactive table.\"\n",
              "              style=\"display:none;\">\n",
              "        \n",
              "  <svg xmlns=\"http://www.w3.org/2000/svg\" height=\"24px\"viewBox=\"0 0 24 24\"\n",
              "       width=\"24px\">\n",
              "    <path d=\"M0 0h24v24H0V0z\" fill=\"none\"/>\n",
              "    <path d=\"M18.56 5.44l.94 2.06.94-2.06 2.06-.94-2.06-.94-.94-2.06-.94 2.06-2.06.94zm-11 1L8.5 8.5l.94-2.06 2.06-.94-2.06-.94L8.5 2.5l-.94 2.06-2.06.94zm10 10l.94 2.06.94-2.06 2.06-.94-2.06-.94-.94-2.06-.94 2.06-2.06.94z\"/><path d=\"M17.41 7.96l-1.37-1.37c-.4-.4-.92-.59-1.43-.59-.52 0-1.04.2-1.43.59L10.3 9.45l-7.72 7.72c-.78.78-.78 2.05 0 2.83L4 21.41c.39.39.9.59 1.41.59.51 0 1.02-.2 1.41-.59l7.78-7.78 2.81-2.81c.8-.78.8-2.07 0-2.86zM5.41 20L4 18.59l7.72-7.72 1.47 1.35L5.41 20z\"/>\n",
              "  </svg>\n",
              "      </button>\n",
              "      \n",
              "  <style>\n",
              "    .colab-df-container {\n",
              "      display:flex;\n",
              "      flex-wrap:wrap;\n",
              "      gap: 12px;\n",
              "    }\n",
              "\n",
              "    .colab-df-convert {\n",
              "      background-color: #E8F0FE;\n",
              "      border: none;\n",
              "      border-radius: 50%;\n",
              "      cursor: pointer;\n",
              "      display: none;\n",
              "      fill: #1967D2;\n",
              "      height: 32px;\n",
              "      padding: 0 0 0 0;\n",
              "      width: 32px;\n",
              "    }\n",
              "\n",
              "    .colab-df-convert:hover {\n",
              "      background-color: #E2EBFA;\n",
              "      box-shadow: 0px 1px 2px rgba(60, 64, 67, 0.3), 0px 1px 3px 1px rgba(60, 64, 67, 0.15);\n",
              "      fill: #174EA6;\n",
              "    }\n",
              "\n",
              "    [theme=dark] .colab-df-convert {\n",
              "      background-color: #3B4455;\n",
              "      fill: #D2E3FC;\n",
              "    }\n",
              "\n",
              "    [theme=dark] .colab-df-convert:hover {\n",
              "      background-color: #434B5C;\n",
              "      box-shadow: 0px 1px 3px 1px rgba(0, 0, 0, 0.15);\n",
              "      filter: drop-shadow(0px 1px 2px rgba(0, 0, 0, 0.3));\n",
              "      fill: #FFFFFF;\n",
              "    }\n",
              "  </style>\n",
              "\n",
              "      <script>\n",
              "        const buttonEl =\n",
              "          document.querySelector('#df-671c5a49-9063-4ebe-b869-82b4bd0f91d7 button.colab-df-convert');\n",
              "        buttonEl.style.display =\n",
              "          google.colab.kernel.accessAllowed ? 'block' : 'none';\n",
              "\n",
              "        async function convertToInteractive(key) {\n",
              "          const element = document.querySelector('#df-671c5a49-9063-4ebe-b869-82b4bd0f91d7');\n",
              "          const dataTable =\n",
              "            await google.colab.kernel.invokeFunction('convertToInteractive',\n",
              "                                                     [key], {});\n",
              "          if (!dataTable) return;\n",
              "\n",
              "          const docLinkHtml = 'Like what you see? Visit the ' +\n",
              "            '<a target=\"_blank\" href=https://colab.research.google.com/notebooks/data_table.ipynb>data table notebook</a>'\n",
              "            + ' to learn more about interactive tables.';\n",
              "          element.innerHTML = '';\n",
              "          dataTable['output_type'] = 'display_data';\n",
              "          await google.colab.output.renderOutput(dataTable, element);\n",
              "          const docLink = document.createElement('div');\n",
              "          docLink.innerHTML = docLinkHtml;\n",
              "          element.appendChild(docLink);\n",
              "        }\n",
              "      </script>\n",
              "    </div>\n",
              "  </div>\n",
              "  "
            ]
          },
          "metadata": {},
          "execution_count": 463
        }
      ]
    },
    {
      "cell_type": "markdown",
      "source": [
        "# Visualização dos Dados\n"
      ],
      "metadata": {
        "id": "PvUri-Fv3b7g"
      }
    },
    {
      "cell_type": "markdown",
      "source": [
        "A etapa da visualização de dados é essencial para que possamos enxergar e compreender melhor as informações oferecidas pelo dataset. Podemos visualizar os dados a partir de diversos tipos de gráficos."
      ],
      "metadata": {
        "id": "8InqDnpx3uBc"
      }
    },
    {
      "cell_type": "markdown",
      "source": [
        "## Distribuição dos Dados"
      ],
      "metadata": {
        "id": "YPn1lHwn40ai"
      }
    },
    {
      "cell_type": "markdown",
      "source": [
        "Um dos pontos importantes da visualização é ver como os dados são distribuídos, ou seja, ver a frequência que um certo atributo aparece no dataset e todos os valores que ele pode apresentar. O melhor gráfico para ver a distribuição é o histograma. Na célula abaixo, plote um histograma de qualquer atributo do dataset com a ajuda do módulo *matplotlib.pyplot*."
      ],
      "metadata": {
        "id": "TvJefwKwXv9H"
      }
    },
    {
      "cell_type": "code",
      "source": [
        "import matplotlib.pyplot as plt"
      ],
      "metadata": {
        "id": "wIKah_yd09B4"
      },
      "execution_count": 464,
      "outputs": []
    },
    {
      "cell_type": "markdown",
      "source": [
        "## Gráficos associando dois atributos"
      ],
      "metadata": {
        "id": "-PB8buzn_c7r"
      }
    },
    {
      "cell_type": "markdown",
      "source": [
        "Podemos criar gráficos para visualizar a relação entre duas variáveis. Isso possibilita criar conclusões sobre os dados disponíveis. Há diversos gráficos capazes de mostrar isso, como gráficos de dispersão (scatter), de barra (bar) e de linha (line). Para exercitar, escolha duas colunas do dataset para utilizar em seus gráficos na célula abaixo."
      ],
      "metadata": {
        "id": "p10RrwGzAqyH"
      }
    },
    {
      "cell_type": "code",
      "source": [
        "values = dataset[\"Age\"].value_counts()\n",
        "label = values.index\n",
        "height = values.values\n",
        "plt.figure(figsize=(10, 6))\n",
        "plt.ylabel(\"Quantidade\", fontsize=16)\n",
        "plt.xlabel(\"Idade\", fontsize=16)\n",
        "plt.title(\"Idade dos estudantes\", fontsize=18)\n",
        "plt.bar(label, height,1, color='purple', edgecolor='white')\n",
        "plt.show()"
      ],
      "metadata": {
        "id": "8vBWfbd1CnDT",
        "colab": {
          "base_uri": "https://localhost:8080/",
          "height": 413
        },
        "outputId": "4ae40f77-d633-4f6d-afd7-18d8e4955dbe"
      },
      "execution_count": 465,
      "outputs": [
        {
          "output_type": "display_data",
          "data": {
            "text/plain": [
              "<Figure size 720x432 with 1 Axes>"
            ],
            "image/png": "[encoded data removed]"
          },
          "metadata": {
            "needs_background": "light"
          }
        }
      ]
    },
    {
      "cell_type": "code",
      "source": [
        "#número exato de alunos com cada idade, height foi criado na parte de cima\n",
        "height"
      ],
      "metadata": {
        "colab": {
          "base_uri": "https://localhost:8080/"
        },
        "id": "2T_0WqhmolGC",
        "outputId": "504d3bf3-7319-4ce0-daf2-61776c41114d"
      },
      "execution_count": 466,
      "outputs": [
        {
          "output_type": "execute_result",
          "data": {
            "text/plain": [
              "array([32, 23, 22, 13,  6,  3,  2])"
            ]
          },
          "metadata": {},
          "execution_count": 466
        }
      ]
    },
    {
      "cell_type": "markdown",
      "source": [
        "### Gráficos de Dispersão\n",
        "São usados para determinar relações entre duas variáveis. A partir dele é possível visualizar se eles escalam positivamente, negativamente ou se não possuem relação nenhuma (quando se comportam de forma \"aleatória\")."
      ],
      "metadata": {
        "id": "tx0x4BHwCpcs"
      }
    },
    {
      "cell_type": "code",
      "source": [
        "values = dataset[\"Gender\"].value_counts()\n",
        "label = values.index\n",
        "height = values.values\n",
        "plt.figure(figsize=(12, 6))\n",
        "plt.ylabel(\"Quantidade\", fontsize=14)\n",
        "plt.xlabel(\"Gênero\", fontsize=14)\n",
        "plt.title(\"Gênero dos estudantes\", fontsize=18)\n",
        "plt.bar(label, height,1, color='pink', edgecolor='black')\n",
        "plt.plot()\n",
        "# fica possível enxergar que houveram muito mais pessoas do sexo feminino que responderam a pesquisa, do que do sexo masculino."
      ],
      "metadata": {
        "colab": {
          "base_uri": "https://localhost:8080/",
          "height": 429
        },
        "id": "S07d8vLpo0k-",
        "outputId": "f852f3c9-60b2-4682-ce9f-272757c5ff4f"
      },
      "execution_count": 467,
      "outputs": [
        {
          "output_type": "execute_result",
          "data": {
            "text/plain": [
              "[]"
            ]
          },
          "metadata": {},
          "execution_count": 467
        },
        {
          "output_type": "display_data",
          "data": {
            "text/plain": [
              "<Figure size 864x432 with 1 Axes>"
            ],
            "image/png": "[encoded data removed]"
          },
          "metadata": {
            "needs_background": "light"
          }
        }
      ]
    },
    {
      "cell_type": "markdown",
      "source": [
        "### Gráficos de Barra\n",
        "Servem mais para comparar valores/atributos entre grupos diferentes de um outro atributo ou para visualizar alterações feitas com o passar do tempo, de preferência quando essas mudanças forem significantes."
      ],
      "metadata": {
        "id": "T8O8NpxWEj7l"
      }
    },
    {
      "cell_type": "code",
      "source": [
        "# Observamos que a maioria dos estudantes que responderam a pesquisa estão nos primeiros dois anos do curso.\n",
        "plt.figure(figsize=(10, 6))\n",
        "plt.title('Ano letivo dos estudantes', fontsize=16)\n",
        "plt.ylabel(\"Quantidade\", fontsize=14)\n",
        "plt.xlabel(\"Ano letivo\", fontsize=14)\n",
        "plt.hist(dataset['Year'], width=.6, color = 'red')\n",
        "plt.plot()"
      ],
      "metadata": {
        "colab": {
          "base_uri": "https://localhost:8080/",
          "height": 427
        },
        "id": "zoQT_LUPpqoz",
        "outputId": "6cbd212d-8834-4bb3-8474-2b299215c9c5"
      },
      "execution_count": 468,
      "outputs": [
        {
          "output_type": "execute_result",
          "data": {
            "text/plain": [
              "[]"
            ]
          },
          "metadata": {},
          "execution_count": 468
        },
        {
          "output_type": "display_data",
          "data": {
            "text/plain": [
              "<Figure size 720x432 with 1 Axes>"
            ],
            "image/png": "[encoded data removed]"
          },
          "metadata": {
            "needs_background": "light"
          }
        }
      ]
    },
    {
      "cell_type": "markdown",
      "source": [
        "### Gráficos de Linha\n",
        "São os melhores gráficos para acompanhar as mudanças que ocorrem em variáveis por longos ou curtos períodos de tempo. Com gráficos de linha, também é possível plotar linhas para mais classes/grupos de um atributo, se necessário."
      ],
      "metadata": {
        "id": "QEsend9NErqN"
      }
    },
    {
      "cell_type": "markdown",
      "source": [
        "Plote um gráfico na célula de código abaixo e explique a sua escolha."
      ],
      "metadata": {
        "id": "b3eUJp5fIh3a"
      }
    },
    {
      "cell_type": "code",
      "source": [
        "# Grafico para ver a quantidade de participantes por curso\n",
        "\n",
        "values = dataset[\"Course\"].value_counts()\n",
        "label = values.index\n",
        "height = values.values\n",
        "plt.figure(figsize=(10, 12))\n",
        "plt.ylabel(\"Curso\", fontsize=14)\n",
        "plt.xlabel(\"Quantidade de respostas\", fontsize=14)\n",
        "plt.title('Distribuição por curso', fontsize=16)\n",
        "plt.barh(label, height,.8,color = 'gray')\n",
        "plt.plot()"
      ],
      "metadata": {
        "id": "-0jwWbdCIvW3",
        "colab": {
          "base_uri": "https://localhost:8080/",
          "height": 753
        },
        "outputId": "fc51f280-8ca6-486c-a1d5-316a24f8d297"
      },
      "execution_count": 469,
      "outputs": [
        {
          "output_type": "execute_result",
          "data": {
            "text/plain": [
              "[]"
            ]
          },
          "metadata": {},
          "execution_count": 469
        },
        {
          "output_type": "display_data",
          "data": {
            "text/plain": [
              "<Figure size 720x864 with 1 Axes>"
            ],
            "image/png": "[encoded data removed]"
          },
          "metadata": {
            "needs_background": "light"
          }
        }
      ]
    },
    {
      "cell_type": "code",
      "source": [
        "# Podemos utilizar o gráficos de pizza para verificar variáveis binárias, 0 = 'No' e 1 = 'Yes'\n",
        "\n",
        "values = dataset[\"Marital_Status\"].value_counts()\n",
        "fig = plt.figure(figsize =(10, 7))\n",
        "plt.title(\"Casado(a)\", fontsize=16)\n",
        "plt.pie(values, labels = values.index,)\n",
        " \n",
        "plt.show()"
      ],
      "metadata": {
        "colab": {
          "base_uri": "https://localhost:8080/",
          "height": 429
        },
        "id": "WZwvzbjBsbRx",
        "outputId": "ffa97561-6311-4b5d-d4ed-ab9fc9778d58"
      },
      "execution_count": 470,
      "outputs": [
        {
          "output_type": "display_data",
          "data": {
            "text/plain": [
              "<Figure size 720x504 with 1 Axes>"
            ],
            "image/png": "[encoded data removed]"
          },
          "metadata": {}
        }
      ]
    },
    {
      "cell_type": "code",
      "source": [
        "values = dataset[\"Anxiety\"].value_counts()\n",
        "fig = plt.figure(figsize =(10, 7))\n",
        "plt.title(\"Pessoas com ansiedade\", fontsize=16)\n",
        "plt.pie(values, labels = values.index,)\n",
        " \n",
        "plt.show()"
      ],
      "metadata": {
        "colab": {
          "base_uri": "https://localhost:8080/",
          "height": 429
        },
        "id": "vYCV-UdltH_B",
        "outputId": "2d4f2b60-ea1f-4d76-8798-08b9710095c2"
      },
      "execution_count": 471,
      "outputs": [
        {
          "output_type": "display_data",
          "data": {
            "text/plain": [
              "<Figure size 720x504 with 1 Axes>"
            ],
            "image/png": "[encoded data removed]"
          },
          "metadata": {}
        }
      ]
    },
    {
      "cell_type": "code",
      "source": [
        "# Ao utilizarmos a crosstab, observamos como duas ou mais variáveis se relacionam.\n",
        "# Podemos plotar os resultados para melhor entendimento.\n",
        "# O primeiro gráfico mostra valores absolutos, o que pode ocasionar distorções em casos cuja amostra esteja desbalanceada.\n",
        "\n",
        "pd.crosstab(dataset['Gender'], dataset['Depression']).plot.bar(stacked=True, figsize=(8, 8))\n",
        "plt.title('Depressão por gênero (valores absolutos)', fontsize=16)\n",
        "plt.ylabel(\"Quantidade\", fontsize=14)\n",
        "plt.xlabel(\"Gênero\", fontsize=14)\n",
        "\n",
        "pd.crosstab(dataset['Gender'], dataset['Depression'], normalize='index').plot.bar(stacked=True, figsize=(8, 8))\n",
        "plt.title('Depressão por gênero (valores percentuais)', fontsize=16)\n",
        "plt.ylabel(\"Quantidade\", fontsize=14)\n",
        "plt.xlabel(\"Gênero\", fontsize=14)"
      ],
      "metadata": {
        "colab": {
          "base_uri": "https://localhost:8080/",
          "height": 1000
        },
        "id": "zr3PIW_DtUjM",
        "outputId": "52f4b968-bce9-4ad5-dc52-6bd9dd6b7e76"
      },
      "execution_count": 472,
      "outputs": [
        {
          "output_type": "execute_result",
          "data": {
            "text/plain": [
              "Text(0.5, 0, 'Gênero')"
            ]
          },
          "metadata": {},
          "execution_count": 472
        },
        {
          "output_type": "display_data",
          "data": {
            "text/plain": [
              "<Figure size 576x576 with 1 Axes>"
            ],
            "image/png": "[encoded data removed]"
          },
          "metadata": {
            "needs_background": "light"
          }
        },
        {
          "output_type": "display_data",
          "data": {
            "text/plain": [
              "<Figure size 576x576 with 1 Axes>"
            ],
            "image/png": "[encoded data removed]"
          },
          "metadata": {
            "needs_background": "light"
          }
        }
      ]
    },
    {
      "cell_type": "code",
      "source": [
        "# O gráfico a seguir indica que apesar de depressivos, os estudantes possuem CGPA relativamente elevados.\n",
        "\n",
        "pd.crosstab(dataset['CGPA'], dataset['Depression']).plot.bar(stacked=True, figsize=(10, 8))\n",
        "plt.title('Depressão por CGPA (valores absolutos)', fontsize=16)\n",
        "plt.ylabel(\"Quantidade\", fontsize=14)\n",
        "plt.xlabel(\"CGPA\", fontsize=14)\n",
        "\n",
        "pd.crosstab(dataset['CGPA'], dataset['Depression'], normalize='index').plot.bar(stacked=True, figsize=(10, 8))\n",
        "plt.title('Depressão por CGPA (valores percentuais)', fontsize=16)\n",
        "plt.ylabel(\"Quantidade\", fontsize=14)\n",
        "plt.xlabel(\"CGPA\", fontsize=14)"
      ],
      "metadata": {
        "colab": {
          "base_uri": "https://localhost:8080/",
          "height": 1000
        },
        "id": "BT2YSV13tudl",
        "outputId": "f7fd899b-c9e1-41c5-d979-0fbc69ce0329"
      },
      "execution_count": 473,
      "outputs": [
        {
          "output_type": "execute_result",
          "data": {
            "text/plain": [
              "Text(0.5, 0, 'CGPA')"
            ]
          },
          "metadata": {},
          "execution_count": 473
        },
        {
          "output_type": "display_data",
          "data": {
            "text/plain": [
              "<Figure size 720x576 with 1 Axes>"
            ],
            "image/png": "[encoded data removed]"
          },
          "metadata": {
            "needs_background": "light"
          }
        },
        {
          "output_type": "display_data",
          "data": {
            "text/plain": [
              "<Figure size 720x576 with 1 Axes>"
            ],
            "image/png": "[encoded data removed]"
          },
          "metadata": {
            "needs_background": "light"
          }
        }
      ]
    },
    {
      "cell_type": "code",
      "source": [
        "# O gráfico a seguir sugere uma maior incidência de ansiedade nos extremos das idades\n",
        "\n",
        "pd.crosstab(dataset['Age'], dataset['Anxiety']).plot.bar(stacked=True, figsize=(10,8))\n",
        "plt.title('Ansiedade por idade', fontsize=16)\n",
        "plt.ylabel(\"Quantidade\", fontsize=14)\n",
        "plt.xlabel(\"Idade\", fontsize=14)"
      ],
      "metadata": {
        "colab": {
          "base_uri": "https://localhost:8080/",
          "height": 539
        },
        "id": "LGZVMBMauZka",
        "outputId": "f1a8cc0f-1b95-4f0a-a853-61fa3dae9211"
      },
      "execution_count": 474,
      "outputs": [
        {
          "output_type": "execute_result",
          "data": {
            "text/plain": [
              "Text(0.5, 0, 'Idade')"
            ]
          },
          "metadata": {},
          "execution_count": 474
        },
        {
          "output_type": "display_data",
          "data": {
            "text/plain": [
              "<Figure size 720x576 with 1 Axes>"
            ],
            "image/png": "[encoded data removed]"
          },
          "metadata": {
            "needs_background": "light"
          }
        }
      ]
    },
    {
      "cell_type": "code",
      "source": [
        "# No boxplot, podemos temos uma visualização da distribuição do CGPA. \n",
        "# Podemos observar valores máximos e mínimos, a mediana e os valores fora da curva.\n",
        "\n",
        "plt.figure(figsize=(10, 6))\n",
        "plt.boxplot(dataset['CGPA'])\n",
        "plt.title('CGPA', fontsize=16)\n",
        "\n",
        "\n",
        "plt.show()"
      ],
      "metadata": {
        "colab": {
          "base_uri": "https://localhost:8080/",
          "height": 392
        },
        "id": "MUUqdRu9usD-",
        "outputId": "24186203-35ad-4090-b2b5-b0079eefa7de"
      },
      "execution_count": 475,
      "outputs": [
        {
          "output_type": "display_data",
          "data": {
            "text/plain": [
              "<Figure size 720x432 with 1 Axes>"
            ],
            "image/png": "[encoded data removed]"
          },
          "metadata": {
            "needs_background": "light"
          }
        }
      ]
    },
    {
      "cell_type": "markdown",
      "source": [
        "# Conclusões"
      ],
      "metadata": {
        "id": "9L5p0vNNJNf-"
      }
    },
    {
      "cell_type": "markdown",
      "source": [
        "Com base no que observa-se durante a exploração e visualização dos dados, podemos criar várias hipóteses, fazer análises e chegar a conclusões. Também podemos relatar se os dados são confiáveis o suficiente, se faltam mais dados e/ou se eles são enviesados. No bloco de texto abaixo, você poderá escrever quais são as conclusões de acordo com o que foi possível observar no dataset e nos gráficos plotados."
      ],
      "metadata": {
        "id": "TaRkurAEJPrg"
      }
    },
    {
      "cell_type": "markdown",
      "source": [
        "*texto em itálico*"
      ],
      "metadata": {
        "id": "xxK13Cy4Lv_L"
      }
    },
    {
      "cell_type": "markdown",
      "source": [
        "É possível enxergar pelos gráficos diversas coisas, a depressão não tem uma influência forte com o 'CGPA' do aluno.\n",
        "Os mais novos, e os mais velhos que participaram da pesquisa, a maioria possui ansiedade, sendo os extremos de acordo com a pesquisa.\n",
        "Podemos enxergar também que o índice de depressão em estudantes mulheres, é maior que nos homens, porém também pode ser por mais mulheres terem respondido do que homens, essa foi uma das muitas conclusões que pudemos retirar dessa análise de dados."
      ],
      "metadata": {
        "id": "Nh-6W9kxvikw"
      }
    }
  ]
}